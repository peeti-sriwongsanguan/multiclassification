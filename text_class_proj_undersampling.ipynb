{
 "cells": [
  {
   "cell_type": "code",
   "execution_count": 3,
   "id": "c0f5c760-48d4-49e2-ae4b-f9777c19a55c",
   "metadata": {},
   "outputs": [],
   "source": [
    "from watclaimdata import test_df,train_df,valid_df\n",
    "\n",
    "import numpy as np\n",
    "import tensorflow as tf\n",
    "from tensorflow import keras\n",
    "\n",
    "from tensorflow.keras.layers import Embedding, Input, Dense, Lambda\n",
    "from tensorflow.keras.models import Model\n",
    "import tensorflow.keras.backend as K\n",
    "import tensorflow_datasets as tfds\n",
    "import tensorflow_text as tf_text\n",
    "\n",
    "import sklearn as sk\n",
    "import os\n",
    "import nltk\n",
    "from nltk.data import find\n",
    "\n",
    "import matplotlib.pyplot as plt\n",
    "\n",
    "import re\n",
    "import pandas as pd\n",
    "\n",
    "import gensim\n",
    "from gensim.models import Word2Vec\n",
    "from gensim.models import KeyedVectors\n",
    "from gensim.test.utils import datapath"
   ]
  },
  {
   "cell_type": "code",
   "execution_count": 10,
   "id": "ab6fa8e3-7bf5-45c4-982f-2746f2425f64",
   "metadata": {},
   "outputs": [
    {
     "data": {
      "text/html": [
       "<div>\n",
       "<style scoped>\n",
       "    .dataframe tbody tr th:only-of-type {\n",
       "        vertical-align: middle;\n",
       "    }\n",
       "\n",
       "    .dataframe tbody tr th {\n",
       "        vertical-align: top;\n",
       "    }\n",
       "\n",
       "    .dataframe thead th {\n",
       "        text-align: right;\n",
       "    }\n",
       "</style>\n",
       "<table border=\"1\" class=\"dataframe\">\n",
       "  <thead>\n",
       "    <tr style=\"text-align: right;\">\n",
       "      <th></th>\n",
       "      <th>claim</th>\n",
       "      <th>id</th>\n",
       "      <th>rating</th>\n",
       "      <th>original_rating</th>\n",
       "    </tr>\n",
       "  </thead>\n",
       "  <tbody>\n",
       "    <tr>\n",
       "      <th>26971</th>\n",
       "      <td>If an individual is determined \"to commit suic...</td>\n",
       "      <td>26972</td>\n",
       "      <td>1</td>\n",
       "      <td>barely-true</td>\n",
       "    </tr>\n",
       "    <tr>\n",
       "      <th>26972</th>\n",
       "      <td>Former NBA star said modern basketball players...</td>\n",
       "      <td>26973</td>\n",
       "      <td>0</td>\n",
       "      <td>false</td>\n",
       "    </tr>\n",
       "    <tr>\n",
       "      <th>26973</th>\n",
       "      <td>\"Since Debbie Halvorson has been in politics, ...</td>\n",
       "      <td>26974</td>\n",
       "      <td>1</td>\n",
       "      <td>half-true</td>\n",
       "    </tr>\n",
       "    <tr>\n",
       "      <th>26974</th>\n",
       "      <td>President Barack Obama \"had the legal authorit...</td>\n",
       "      <td>26975</td>\n",
       "      <td>2</td>\n",
       "      <td>true</td>\n",
       "    </tr>\n",
       "    <tr>\n",
       "      <th>26975</th>\n",
       "      <td>Photograph of a Congress worker protesting aga...</td>\n",
       "      <td>26976</td>\n",
       "      <td>0</td>\n",
       "      <td>false</td>\n",
       "    </tr>\n",
       "  </tbody>\n",
       "</table>\n",
       "</div>"
      ],
      "text/plain": [
       "                                                   claim     id  rating  \\\n",
       "26971  If an individual is determined \"to commit suic...  26972       1   \n",
       "26972  Former NBA star said modern basketball players...  26973       0   \n",
       "26973  \"Since Debbie Halvorson has been in politics, ...  26974       1   \n",
       "26974  President Barack Obama \"had the legal authorit...  26975       2   \n",
       "26975  Photograph of a Congress worker protesting aga...  26976       0   \n",
       "\n",
       "      original_rating  \n",
       "26971     barely-true  \n",
       "26972           false  \n",
       "26973       half-true  \n",
       "26974            true  \n",
       "26975           false  "
      ]
     },
     "execution_count": 10,
     "metadata": {},
     "output_type": "execute_result"
    }
   ],
   "source": [
    "train_df.tail()"
   ]
  },
  {
   "cell_type": "code",
   "execution_count": 8,
   "id": "5dbd10b1-e24d-446f-abf4-dd3b1125c5b1",
   "metadata": {},
   "outputs": [
    {
     "data": {
      "text/plain": [
       "<AxesSubplot:>"
      ]
     },
     "execution_count": 8,
     "metadata": {},
     "output_type": "execute_result"
    },
    {
     "data": {
      "image/png": "[encoded data removed]",
      "text/plain": [
       "<Figure size 432x288 with 1 Axes>"
      ]
     },
     "metadata": {
      "needs_background": "light"
     },
     "output_type": "display_data"
    }
   ],
   "source": [
    "train_df['rating'].value_counts().plot(kind='bar')"
   ]
  },
  {
   "cell_type": "code",
   "execution_count": 9,
   "id": "73678e60-6d57-4176-8a22-123c41e54233",
   "metadata": {},
   "outputs": [
    {
     "name": "stdout",
     "output_type": "stream",
     "text": [
      "0.9.0\n"
     ]
    }
   ],
   "source": [
    "# check version number\n",
    "import imblearn\n",
    "print(imblearn.__version__)"
   ]
  },
  {
   "cell_type": "markdown",
   "id": "773058a3-74e9-4a12-bf75-59ff76c30a26",
   "metadata": {},
   "source": [
    "NearMiss-3 selects the closest examples from the majority class for each minority class.\n",
    "\n",
    "The n_neighbors_ver3 argument determines the number of examples to select for each minority example, although the desired balancing ratio set via sampling_strategy will filter this to achieve the desired balance."
   ]
  },
  {
   "cell_type": "code",
   "execution_count": 102,
   "id": "261f91e0-e6c6-4fda-932a-a0a169d7e31b",
   "metadata": {},
   "outputs": [
    {
     "data": {
      "text/plain": [
       "(26976, 1)"
      ]
     },
     "execution_count": 102,
     "metadata": {},
     "output_type": "execute_result"
    }
   ],
   "source": [
    "X = train_df.iloc[:,1:2]\n",
    "X.shape"
   ]
  },
  {
   "cell_type": "code",
   "execution_count": 103,
   "id": "a4440bd7-0a67-4ee2-a155-5e4e821ec411",
   "metadata": {},
   "outputs": [
    {
     "data": {
      "text/plain": [
       "(26976,)"
      ]
     },
     "execution_count": 103,
     "metadata": {},
     "output_type": "execute_result"
    }
   ],
   "source": [
    "y = train_df['rating']\n",
    "y.shape"
   ]
  },
  {
   "cell_type": "code",
   "execution_count": 112,
   "id": "98897fd9-1583-49b7-b727-eba7902dab06",
   "metadata": {},
   "outputs": [],
   "source": [
    "valid_df['indx'] = valid_df.index"
   ]
  },
  {
   "cell_type": "code",
   "execution_count": 115,
   "id": "3c2bff9f-38ec-4cd6-8ac7-d899238b5d90",
   "metadata": {},
   "outputs": [
    {
     "data": {
      "text/html": [
       "<div>\n",
       "<style scoped>\n",
       "    .dataframe tbody tr th:only-of-type {\n",
       "        vertical-align: middle;\n",
       "    }\n",
       "\n",
       "    .dataframe tbody tr th {\n",
       "        vertical-align: top;\n",
       "    }\n",
       "\n",
       "    .dataframe thead th {\n",
       "        text-align: right;\n",
       "    }\n",
       "</style>\n",
       "<table border=\"1\" class=\"dataframe\">\n",
       "  <thead>\n",
       "    <tr style=\"text-align: right;\">\n",
       "      <th></th>\n",
       "      <th>claim</th>\n",
       "      <th>id</th>\n",
       "      <th>rating</th>\n",
       "      <th>original_rating</th>\n",
       "      <th>new_rating</th>\n",
       "      <th>indx</th>\n",
       "    </tr>\n",
       "  </thead>\n",
       "  <tbody>\n",
       "    <tr>\n",
       "      <th>0</th>\n",
       "      <td>Video shows that \"Joe Biden participated in 'B...</td>\n",
       "      <td>26977</td>\n",
       "      <td>0</td>\n",
       "      <td>false</td>\n",
       "      <td>false</td>\n",
       "      <td>0</td>\n",
       "    </tr>\n",
       "    <tr>\n",
       "      <th>1</th>\n",
       "      <td>\"While Act 10 allowed (Milwaukee County) to sa...</td>\n",
       "      <td>26978</td>\n",
       "      <td>1</td>\n",
       "      <td>half-true</td>\n",
       "      <td>misleading</td>\n",
       "      <td>1</td>\n",
       "    </tr>\n",
       "    <tr>\n",
       "      <th>2</th>\n",
       "      <td>\"In Massachusetts, Biden’s vote exceeded exit ...</td>\n",
       "      <td>26979</td>\n",
       "      <td>0</td>\n",
       "      <td>false</td>\n",
       "      <td>false</td>\n",
       "      <td>2</td>\n",
       "    </tr>\n",
       "    <tr>\n",
       "      <th>3</th>\n",
       "      <td>Reliance supplying Jio Atta after farm bills w...</td>\n",
       "      <td>26980</td>\n",
       "      <td>0</td>\n",
       "      <td>false</td>\n",
       "      <td>false</td>\n",
       "      <td>3</td>\n",
       "    </tr>\n",
       "    <tr>\n",
       "      <th>4</th>\n",
       "      <td>Photo of maulvi and MP Shafiqur Rahman Virk pe...</td>\n",
       "      <td>26981</td>\n",
       "      <td>0</td>\n",
       "      <td>false</td>\n",
       "      <td>false</td>\n",
       "      <td>4</td>\n",
       "    </tr>\n",
       "  </tbody>\n",
       "</table>\n",
       "</div>"
      ],
      "text/plain": [
       "                                               claim     id  rating  \\\n",
       "0  Video shows that \"Joe Biden participated in 'B...  26977       0   \n",
       "1  \"While Act 10 allowed (Milwaukee County) to sa...  26978       1   \n",
       "2  \"In Massachusetts, Biden’s vote exceeded exit ...  26979       0   \n",
       "3  Reliance supplying Jio Atta after farm bills w...  26980       0   \n",
       "4  Photo of maulvi and MP Shafiqur Rahman Virk pe...  26981       0   \n",
       "\n",
       "  original_rating  new_rating  indx  \n",
       "0           false       false     0  \n",
       "1       half-true  misleading     1  \n",
       "2           false       false     2  \n",
       "3           false       false     3  \n",
       "4           false       false     4  "
      ]
     },
     "execution_count": 115,
     "metadata": {},
     "output_type": "execute_result"
    }
   ],
   "source": [
    "valid_df.head()"
   ]
  },
  {
   "cell_type": "code",
   "execution_count": 114,
   "id": "6c352993-6c52-47fd-9d9a-ecd874b99e10",
   "metadata": {},
   "outputs": [
    {
     "data": {
      "text/plain": [
       "(3372, 1)"
      ]
     },
     "execution_count": 114,
     "metadata": {},
     "output_type": "execute_result"
    }
   ],
   "source": [
    "X_v = valid_df[['indx']]\n",
    "y_v = valid_df['rating']\n",
    "X_v.shape"
   ]
  },
  {
   "cell_type": "code",
   "execution_count": 116,
   "id": "c1f9c00c-3143-45ec-80f1-79fc4c63b9dc",
   "metadata": {},
   "outputs": [],
   "source": [
    "# define the undersampling method\n",
    "# undersample = NearMiss(version=3)\n",
    "\n",
    "from imblearn.under_sampling import NearMiss\n",
    "\n",
    "\n",
    "# define the undersampling method\n",
    "undersample = NearMiss(n_neighbors_ver3=3)\n",
    "# transform the dataset\n",
    "X_near, y_near = undersample.fit_resample(X, y.ravel())\n",
    "Xv_near, yv_near = undersample.fit_resample(X_v, y_v.ravel())\n"
   ]
  },
  {
   "cell_type": "code",
   "execution_count": 117,
   "id": "57259e9a-46ca-4e9d-994b-ca8c82d4ad51",
   "metadata": {},
   "outputs": [
    {
     "name": "stdout",
     "output_type": "stream",
     "text": [
      "After Undersampling, counts of label '1': 2894\n",
      "After Undersampling, counts of label '0': 2894\n",
      "After Undersampling, counts of label '2': 2894\n"
     ]
    }
   ],
   "source": [
    "print(\"After Undersampling, counts of label '1': {}\".format(sum(y_near == 1))) \n",
    "print(\"After Undersampling, counts of label '0': {}\".format(sum(y_near == 0))) \n",
    "print(\"After Undersampling, counts of label '2': {}\".format(sum(y_near == 2))) "
   ]
  },
  {
   "cell_type": "code",
   "execution_count": 118,
   "id": "06840d78-68dd-41e5-abc4-de28edebf8fc",
   "metadata": {},
   "outputs": [],
   "source": [
    "near_idx = X_near['id'].apply(lambda x: x-1).tolist()\n",
    "train_near_df = train_df.loc[near_idx]"
   ]
  },
  {
   "cell_type": "code",
   "execution_count": 120,
   "id": "3f6ec76c-b1ab-4ee6-b2b6-374646705aa5",
   "metadata": {},
   "outputs": [],
   "source": [
    "near_v_idx = Xv_near['indx'].tolist()\n",
    "valid_near_df = valid_df.loc[near_v_idx]"
   ]
  },
  {
   "cell_type": "code",
   "execution_count": null,
   "id": "e29ca1b5-0215-43da-a43e-20549f2d766e",
   "metadata": {},
   "outputs": [],
   "source": []
  },
  {
   "cell_type": "code",
   "execution_count": null,
   "id": "4a0f5f56-f7db-4d16-a598-358c24b736cb",
   "metadata": {},
   "outputs": [],
   "source": []
  },
  {
   "cell_type": "code",
   "execution_count": null,
   "id": "8ccc2e2f-569e-457a-ba9a-8125263dfa22",
   "metadata": {},
   "outputs": [],
   "source": []
  },
  {
   "cell_type": "code",
   "execution_count": 121,
   "id": "2aa71e48-c139-44e3-978b-36c7ef059da0",
   "metadata": {},
   "outputs": [
    {
     "data": {
      "text/plain": [
       "array([0, 1, 2])"
      ]
     },
     "execution_count": 121,
     "metadata": {},
     "output_type": "execute_result"
    }
   ],
   "source": [
    "train_near_df['rating'].unique()"
   ]
  },
  {
   "cell_type": "code",
   "execution_count": 122,
   "id": "a256820b-1ebf-4fe5-8596-ef730c3357e3",
   "metadata": {},
   "outputs": [
    {
     "data": {
      "text/html": [
       "<div>\n",
       "<style scoped>\n",
       "    .dataframe tbody tr th:only-of-type {\n",
       "        vertical-align: middle;\n",
       "    }\n",
       "\n",
       "    .dataframe tbody tr th {\n",
       "        vertical-align: top;\n",
       "    }\n",
       "\n",
       "    .dataframe thead th {\n",
       "        text-align: right;\n",
       "    }\n",
       "</style>\n",
       "<table border=\"1\" class=\"dataframe\">\n",
       "  <thead>\n",
       "    <tr style=\"text-align: right;\">\n",
       "      <th></th>\n",
       "      <th>claim</th>\n",
       "      <th>id</th>\n",
       "      <th>rating</th>\n",
       "      <th>original_rating</th>\n",
       "    </tr>\n",
       "  </thead>\n",
       "  <tbody>\n",
       "    <tr>\n",
       "      <th>40</th>\n",
       "      <td>Indians in Spain celebrating Ram Mandir constr...</td>\n",
       "      <td>41</td>\n",
       "      <td>0</td>\n",
       "      <td>false</td>\n",
       "    </tr>\n",
       "    <tr>\n",
       "      <th>419</th>\n",
       "      <td>Says \"Nancy Pelosi came out in favor of MS-13.\"</td>\n",
       "      <td>420</td>\n",
       "      <td>0</td>\n",
       "      <td>false</td>\n",
       "    </tr>\n",
       "    <tr>\n",
       "      <th>874</th>\n",
       "      <td>Muslims punished for breaking lockdown in India</td>\n",
       "      <td>875</td>\n",
       "      <td>0</td>\n",
       "      <td>false</td>\n",
       "    </tr>\n",
       "    <tr>\n",
       "      <th>1629</th>\n",
       "      <td>Photo of Narendra Modi's mother in an auto-ric...</td>\n",
       "      <td>1630</td>\n",
       "      <td>0</td>\n",
       "      <td>false</td>\n",
       "    </tr>\n",
       "    <tr>\n",
       "      <th>1705</th>\n",
       "      <td>President Donald Trump’s budget \"threatened to...</td>\n",
       "      <td>1706</td>\n",
       "      <td>0</td>\n",
       "      <td>false</td>\n",
       "    </tr>\n",
       "  </tbody>\n",
       "</table>\n",
       "</div>"
      ],
      "text/plain": [
       "                                                  claim    id  rating  \\\n",
       "40    Indians in Spain celebrating Ram Mandir constr...    41       0   \n",
       "419     Says \"Nancy Pelosi came out in favor of MS-13.\"   420       0   \n",
       "874     Muslims punished for breaking lockdown in India   875       0   \n",
       "1629  Photo of Narendra Modi's mother in an auto-ric...  1630       0   \n",
       "1705  President Donald Trump’s budget \"threatened to...  1706       0   \n",
       "\n",
       "     original_rating  \n",
       "40             false  \n",
       "419            false  \n",
       "874            false  \n",
       "1629           false  \n",
       "1705           false  "
      ]
     },
     "execution_count": 122,
     "metadata": {},
     "output_type": "execute_result"
    }
   ],
   "source": [
    "train_near_df[train_near_df['rating'] == 0][:5]"
   ]
  },
  {
   "cell_type": "code",
   "execution_count": 123,
   "id": "d5d88015-1b04-4a92-b6eb-e415df7bfd43",
   "metadata": {},
   "outputs": [
    {
     "data": {
      "text/html": [
       "<div>\n",
       "<style scoped>\n",
       "    .dataframe tbody tr th:only-of-type {\n",
       "        vertical-align: middle;\n",
       "    }\n",
       "\n",
       "    .dataframe tbody tr th {\n",
       "        vertical-align: top;\n",
       "    }\n",
       "\n",
       "    .dataframe thead th {\n",
       "        text-align: right;\n",
       "    }\n",
       "</style>\n",
       "<table border=\"1\" class=\"dataframe\">\n",
       "  <thead>\n",
       "    <tr style=\"text-align: right;\">\n",
       "      <th></th>\n",
       "      <th>claim</th>\n",
       "      <th>id</th>\n",
       "      <th>rating</th>\n",
       "      <th>original_rating</th>\n",
       "    </tr>\n",
       "  </thead>\n",
       "  <tbody>\n",
       "    <tr>\n",
       "      <th>1008</th>\n",
       "      <td>The number of people who \"believe in socialism...</td>\n",
       "      <td>1009</td>\n",
       "      <td>1</td>\n",
       "      <td>half-true</td>\n",
       "    </tr>\n",
       "    <tr>\n",
       "      <th>6412</th>\n",
       "      <td>An image shows animals burning in the Australi...</td>\n",
       "      <td>6413</td>\n",
       "      <td>1</td>\n",
       "      <td>barely-true</td>\n",
       "    </tr>\n",
       "    <tr>\n",
       "      <th>7457</th>\n",
       "      <td>Donald Trump would \"engage in a risky scheme t...</td>\n",
       "      <td>7458</td>\n",
       "      <td>1</td>\n",
       "      <td>barely-true</td>\n",
       "    </tr>\n",
       "    <tr>\n",
       "      <th>7635</th>\n",
       "      <td>A photograph shows a nude man walking the runw...</td>\n",
       "      <td>7636</td>\n",
       "      <td>1</td>\n",
       "      <td>miscaptioned</td>\n",
       "    </tr>\n",
       "    <tr>\n",
       "      <th>8675</th>\n",
       "      <td>Anyone bringing supplies to DAPL protesters at...</td>\n",
       "      <td>8676</td>\n",
       "      <td>1</td>\n",
       "      <td>mostly true</td>\n",
       "    </tr>\n",
       "  </tbody>\n",
       "</table>\n",
       "</div>"
      ],
      "text/plain": [
       "                                                  claim    id  rating  \\\n",
       "1008  The number of people who \"believe in socialism...  1009       1   \n",
       "6412  An image shows animals burning in the Australi...  6413       1   \n",
       "7457  Donald Trump would \"engage in a risky scheme t...  7458       1   \n",
       "7635  A photograph shows a nude man walking the runw...  7636       1   \n",
       "8675  Anyone bringing supplies to DAPL protesters at...  8676       1   \n",
       "\n",
       "     original_rating  \n",
       "1008       half-true  \n",
       "6412     barely-true  \n",
       "7457     barely-true  \n",
       "7635    miscaptioned  \n",
       "8675     mostly true  "
      ]
     },
     "execution_count": 123,
     "metadata": {},
     "output_type": "execute_result"
    }
   ],
   "source": [
    "train_near_df[train_near_df['rating'] == 1][:5]"
   ]
  },
  {
   "cell_type": "code",
   "execution_count": 124,
   "id": "acb954e9-8902-46de-8dde-6f3da6b5787e",
   "metadata": {},
   "outputs": [
    {
     "data": {
      "text/html": [
       "<div>\n",
       "<style scoped>\n",
       "    .dataframe tbody tr th:only-of-type {\n",
       "        vertical-align: middle;\n",
       "    }\n",
       "\n",
       "    .dataframe tbody tr th {\n",
       "        vertical-align: top;\n",
       "    }\n",
       "\n",
       "    .dataframe thead th {\n",
       "        text-align: right;\n",
       "    }\n",
       "</style>\n",
       "<table border=\"1\" class=\"dataframe\">\n",
       "  <thead>\n",
       "    <tr style=\"text-align: right;\">\n",
       "      <th></th>\n",
       "      <th>claim</th>\n",
       "      <th>id</th>\n",
       "      <th>rating</th>\n",
       "      <th>original_rating</th>\n",
       "    </tr>\n",
       "  </thead>\n",
       "  <tbody>\n",
       "    <tr>\n",
       "      <th>13</th>\n",
       "      <td>Says that U.S. Rep. Allen West is \"a constitue...</td>\n",
       "      <td>14</td>\n",
       "      <td>2</td>\n",
       "      <td>true</td>\n",
       "    </tr>\n",
       "    <tr>\n",
       "      <th>14</th>\n",
       "      <td>\"The average margin of victory in the House of...</td>\n",
       "      <td>15</td>\n",
       "      <td>2</td>\n",
       "      <td>true</td>\n",
       "    </tr>\n",
       "    <tr>\n",
       "      <th>25</th>\n",
       "      <td>\"Not a single Democrat opposed Neil Gorsuch's ...</td>\n",
       "      <td>26</td>\n",
       "      <td>2</td>\n",
       "      <td>true</td>\n",
       "    </tr>\n",
       "    <tr>\n",
       "      <th>28</th>\n",
       "      <td>Ted Livingston, the CEO of Kik Interactive, an...</td>\n",
       "      <td>29</td>\n",
       "      <td>2</td>\n",
       "      <td>true</td>\n",
       "    </tr>\n",
       "    <tr>\n",
       "      <th>31</th>\n",
       "      <td>There are cities and counties in Georgia that ...</td>\n",
       "      <td>32</td>\n",
       "      <td>2</td>\n",
       "      <td>true</td>\n",
       "    </tr>\n",
       "  </tbody>\n",
       "</table>\n",
       "</div>"
      ],
      "text/plain": [
       "                                                claim  id  rating  \\\n",
       "13  Says that U.S. Rep. Allen West is \"a constitue...  14       2   \n",
       "14  \"The average margin of victory in the House of...  15       2   \n",
       "25  \"Not a single Democrat opposed Neil Gorsuch's ...  26       2   \n",
       "28  Ted Livingston, the CEO of Kik Interactive, an...  29       2   \n",
       "31  There are cities and counties in Georgia that ...  32       2   \n",
       "\n",
       "   original_rating  \n",
       "13            true  \n",
       "14            true  \n",
       "25            true  \n",
       "28            true  \n",
       "31            true  "
      ]
     },
     "execution_count": 124,
     "metadata": {},
     "output_type": "execute_result"
    }
   ],
   "source": [
    "train_near_df[train_near_df['rating'] == 2][:5]"
   ]
  },
  {
   "cell_type": "code",
   "execution_count": 126,
   "id": "d9dbe064-9308-4db1-9951-656bfb4111f8",
   "metadata": {},
   "outputs": [],
   "source": [
    "train_near_df['new_rating'] = np.where(train_near_df['rating'] == 0,'false',np.where(train_near_df['rating'] == 1,'misleading',np.where(train_near_df['rating'] == 2,'true','')))\n",
    "train_near_df['new_rating'].unique()\n",
    "\n",
    "test_df['new_rating'] = np.where(test_df['rating'] == 0,'false',np.where(test_df['rating'] == 1,'misleading',np.where(test_df['rating'] == 2,'true','')))\n",
    "valid_near_df['new_rating'] = np.where(valid_near_df['rating'] == 0,'false',np.where(valid_near_df['rating'] == 1,'misleading',np.where(valid_near_df['rating'] == 2,'true','')))\n",
    "\n"
   ]
  },
  {
   "cell_type": "code",
   "execution_count": 127,
   "id": "fec15046-6781-454b-a4e8-84882152f192",
   "metadata": {},
   "outputs": [],
   "source": [
    "\n",
    "dummy_train_y = np.array(pd.get_dummies(train_near_df['new_rating']))\n",
    "dummy_test_y = np.array(pd.get_dummies(test_df['new_rating']))\n",
    "dummy_valid_y = np.array(pd.get_dummies(valid_near_df['new_rating']))\n"
   ]
  },
  {
   "cell_type": "code",
   "execution_count": 128,
   "id": "aa766c84-80bf-4413-8a22-fab750501d12",
   "metadata": {},
   "outputs": [
    {
     "name": "stderr",
     "output_type": "stream",
     "text": [
      "[nltk_data] Downloading package word2vec_sample to\n",
      "[nltk_data]     /Users/peeti_mac/nltk_data...\n",
      "[nltk_data]   Package word2vec_sample is already up-to-date!\n"
     ]
    }
   ],
   "source": [
    "nltk.download('word2vec_sample')\n",
    "word2vec_sample = str(find('models/word2vec_sample/pruned.word2vec.txt'))\n",
    "model = KeyedVectors.load_word2vec_format(datapath(word2vec_sample), binary=False)\n",
    "\n",
    "EMBEDDING_DIM = len(model['university'])      \n",
    "\n",
    "# initialize embedding matrix and word-to-id map:  \n",
    "embedding_matrix = np.zeros((len(model) + 1, EMBEDDING_DIM))  \n",
    "vocab_dict = {}\n",
    "\n",
    "# build the embedding matrix and the word-to-id map:\n",
    "for i, word in enumerate(model.index_to_key):\n",
    "    embedding_vector = model[word]\n",
    "\n",
    "    if embedding_vector is not None:\n",
    "        # words not found in embedding index will be all-zeros.\n",
    "        embedding_matrix[i] = embedding_vector\n",
    "        vocab_dict[word] = i\n",
    "\n",
    "# we can use the last index at the end of the vocab for unknown tokens\n",
    "vocab_dict['[UNK]'] = len(vocab_dict)"
   ]
  },
  {
   "cell_type": "code",
   "execution_count": 129,
   "id": "e10b05d8-69a9-407e-9b90-2d13d9d65618",
   "metadata": {},
   "outputs": [
    {
     "data": {
      "text/plain": [
       "['Indians in Spain celebrating Ram Mandir construction',\n",
       " 'Says \"Nancy Pelosi came out in favor of MS-13.\"',\n",
       " 'Muslims punished for breaking lockdown in India',\n",
       " \"Photo of Narendra Modi's mother in an auto-rickshaw is photoshopped\"]"
      ]
     },
     "execution_count": 129,
     "metadata": {},
     "output_type": "execute_result"
    }
   ],
   "source": [
    "train_near_df['claim'].values.tolist()[:4]"
   ]
  },
  {
   "cell_type": "code",
   "execution_count": 130,
   "id": "a3b62710-8ab2-4438-8ff8-3bb504c18d35",
   "metadata": {},
   "outputs": [
    {
     "data": {
      "text/plain": [
       "array([0, 0, 0, 0])"
      ]
     },
     "execution_count": 130,
     "metadata": {},
     "output_type": "execute_result"
    }
   ],
   "source": [
    "np.array(train_near_df['rating'].values.tolist())[:4]"
   ]
  },
  {
   "cell_type": "code",
   "execution_count": 131,
   "id": "1dd5d1e5-24f0-43b8-bcfd-56406f6c92d3",
   "metadata": {},
   "outputs": [],
   "source": [
    "train_examples = train_near_df['claim'].values.tolist()\n",
    "train_examples = tf.convert_to_tensor(train_examples)\n",
    "train_labels = np.array(train_near_df['rating'].values.tolist())\n",
    "test_examples = test_df['claim'].values.tolist()\n",
    "test_examples = tf.convert_to_tensor(test_examples)\n",
    "test_labels = np.array(test_df['rating'].values.tolist())\n",
    "val_examples = valid_near_df['claim'].values.tolist()\n",
    "val_examples = tf.convert_to_tensor(val_examples)\n",
    "val_labels = np.array(valid_near_df['rating'].values.tolist())\n",
    "\n",
    "# print('Train data contains {} with labels of {}'.format(train_examples.shape[0],train_labels['rating'].unique()))"
   ]
  },
  {
   "cell_type": "code",
   "execution_count": 132,
   "id": "697531d6-4873-4956-b4dd-bf45e473d7f1",
   "metadata": {},
   "outputs": [
    {
     "data": {
      "text/plain": [
       "<tf.Tensor: shape=(4,), dtype=string, numpy=\n",
       "array([b'Indians in Spain celebrating Ram Mandir construction',\n",
       "       b'Says \"Nancy Pelosi came out in favor of MS-13.\"',\n",
       "       b'Muslims punished for breaking lockdown in India',\n",
       "       b\"Photo of Narendra Modi's mother in an auto-rickshaw is photoshopped\"],\n",
       "      dtype=object)>"
      ]
     },
     "execution_count": 132,
     "metadata": {},
     "output_type": "execute_result"
    }
   ],
   "source": [
    "train_examples[:4]"
   ]
  },
  {
   "cell_type": "code",
   "execution_count": 133,
   "id": "3a1e161e-b040-4df0-916f-d02317eb0ca7",
   "metadata": {},
   "outputs": [
    {
     "data": {
      "text/plain": [
       "array([0, 0, 0, 0])"
      ]
     },
     "execution_count": 133,
     "metadata": {},
     "output_type": "execute_result"
    }
   ],
   "source": [
    "train_labels[:4]"
   ]
  },
  {
   "cell_type": "code",
   "execution_count": 134,
   "id": "613ebd34-a28d-4d56-a28d-1dc54395c5f6",
   "metadata": {},
   "outputs": [
    {
     "data": {
      "text/plain": [
       "(8682,)"
      ]
     },
     "execution_count": 134,
     "metadata": {},
     "output_type": "execute_result"
    }
   ],
   "source": [
    "train_labels.shape"
   ]
  },
  {
   "cell_type": "code",
   "execution_count": 135,
   "id": "aa0da942-b42e-4eeb-8b45-edba6a11bb78",
   "metadata": {},
   "outputs": [],
   "source": [
    "# tf.convert_to_tensor(train_examples)"
   ]
  },
  {
   "cell_type": "code",
   "execution_count": 139,
   "id": "999aea3d-0083-448a-8636-b9adb4933d03",
   "metadata": {},
   "outputs": [],
   "source": [
    "tokenizer = tf_text.WhitespaceTokenizer()\n",
    "train_tokens = tokenizer.tokenize(train_examples)\n",
    "test_tokens = tokenizer.tokenize(val_examples)"
   ]
  },
  {
   "cell_type": "code",
   "execution_count": 140,
   "id": "5326cf02-0d0c-4c04-9e57-c5092a8d0f35",
   "metadata": {},
   "outputs": [
    {
     "data": {
      "text/plain": [
       "<tf.Tensor: shape=(7,), dtype=string, numpy=\n",
       "array([b'Indians', b'in', b'Spain', b'celebrating', b'Ram', b'Mandir',\n",
       "       b'construction'], dtype=object)>"
      ]
     },
     "execution_count": 140,
     "metadata": {},
     "output_type": "execute_result"
    }
   ],
   "source": [
    "train_tokens[0]"
   ]
  },
  {
   "cell_type": "code",
   "execution_count": 141,
   "id": "bc8bb52a-baa4-405b-b782-224bc32e6fa3",
   "metadata": {},
   "outputs": [],
   "source": [
    "MAX_SEQUENCE_LENGTH = 128\n",
    "\n",
    "def docs_to_vocab_ids(tokenized_texts_list):\n",
    "    \"\"\"\n",
    "    converting a list of strings to a list of lists of word ids\n",
    "    \"\"\"\n",
    "    texts_vocab_ids = []\n",
    "    for i, token_list in enumerate(tokenized_texts_list):\n",
    "\n",
    "        # Get the vocab id for each token in this doc ([UNK] if not in vocab)\n",
    "        vocab_ids = []\n",
    "        for token in list(token_list.numpy()):\n",
    "            decoded = token.decode('utf-8', errors='ignore')\n",
    "            if decoded in vocab_dict:\n",
    "                vocab_ids.append(vocab_dict[decoded])\n",
    "            else:\n",
    "                vocab_ids.append(vocab_dict['[UNK]'])\n",
    "            \n",
    "        # Truncate text to max length, add padding up to max length\n",
    "        vocab_ids = vocab_ids[:MAX_SEQUENCE_LENGTH]\n",
    "        n_padding = (MAX_SEQUENCE_LENGTH - len(vocab_ids))\n",
    "        # For simplicity in this model, we'll just pad with uknown tokens\n",
    "        vocab_ids += [vocab_dict['[UNK]']] * n_padding\n",
    "\n",
    "        # Add this example to the list of converted docs\n",
    "        texts_vocab_ids.append(vocab_ids)\n",
    "            \n",
    "        if i % 5000 == 0:\n",
    "            print('Examples processed: ', i)\n",
    "        \n",
    "    print('Total examples: ', i)\n",
    "\n",
    "    return np.array(texts_vocab_ids)"
   ]
  },
  {
   "cell_type": "code",
   "execution_count": 142,
   "id": "374bd4ef-f566-4f1b-9e8c-8776dc8cf1f5",
   "metadata": {},
   "outputs": [
    {
     "name": "stdout",
     "output_type": "stream",
     "text": [
      "Examples processed:  0\n",
      "Examples processed:  5000\n",
      "Total examples:  8681\n",
      "Examples processed:  0\n",
      "Total examples:  1079\n"
     ]
    }
   ],
   "source": [
    "train_input = docs_to_vocab_ids(train_tokens)\n",
    "test_input = docs_to_vocab_ids(test_tokens)\n",
    "\n",
    "train_labels = np.array(train_labels)\n",
    "test_labels = np.array(val_labels)"
   ]
  },
  {
   "cell_type": "code",
   "execution_count": 143,
   "id": "fa5098d5-7ec8-41e7-bf8b-dcc1c34a03ed",
   "metadata": {},
   "outputs": [
    {
     "data": {
      "text/plain": [
       "array([[11646, 16915, 41348, 41369, 43981, 43981, 13640, 43981, 43981,\n",
       "        43981, 43981, 43981, 43981, 43981, 43981, 43981, 43981, 43981,\n",
       "        43981, 43981, 43981, 43981, 43981, 43981, 43981, 43981, 43981,\n",
       "        43981, 43981, 43981, 43981, 43981, 43981, 43981, 43981, 43981,\n",
       "        43981, 43981, 43981, 43981, 43981, 43981, 43981, 43981, 43981,\n",
       "        43981, 43981, 43981, 43981, 43981, 43981, 43981, 43981, 43981,\n",
       "        43981, 43981, 43981, 43981, 43981, 43981, 43981, 43981, 43981,\n",
       "        43981, 43981, 43981, 43981, 43981, 43981, 43981, 43981, 43981,\n",
       "        43981, 43981, 43981, 43981, 43981, 43981, 43981, 43981, 43981,\n",
       "        43981, 43981, 43981, 43981, 43981, 43981, 43981, 43981, 43981,\n",
       "        43981, 43981, 43981, 43981, 43981, 43981, 43981, 43981, 43981,\n",
       "        43981, 43981, 43981, 43981, 43981, 43981, 43981, 43981, 43981,\n",
       "        43981, 43981, 43981, 43981, 43981, 43981, 43981, 43981, 43981,\n",
       "        43981, 43981, 43981, 43981, 43981, 43981, 43981, 43981, 43981,\n",
       "        43981, 43981],\n",
       "       [34147, 43981, 43981, 22271, 10490, 16915, 10653, 43981, 43981,\n",
       "        43981, 43981, 43981, 43981, 43981, 43981, 43981, 43981, 43981,\n",
       "        43981, 43981, 43981, 43981, 43981, 43981, 43981, 43981, 43981,\n",
       "        43981, 43981, 43981, 43981, 43981, 43981, 43981, 43981, 43981,\n",
       "        43981, 43981, 43981, 43981, 43981, 43981, 43981, 43981, 43981,\n",
       "        43981, 43981, 43981, 43981, 43981, 43981, 43981, 43981, 43981,\n",
       "        43981, 43981, 43981, 43981, 43981, 43981, 43981, 43981, 43981,\n",
       "        43981, 43981, 43981, 43981, 43981, 43981, 43981, 43981, 43981,\n",
       "        43981, 43981, 43981, 43981, 43981, 43981, 43981, 43981, 43981,\n",
       "        43981, 43981, 43981, 43981, 43981, 43981, 43981, 43981, 43981,\n",
       "        43981, 43981, 43981, 43981, 43981, 43981, 43981, 43981, 43981,\n",
       "        43981, 43981, 43981, 43981, 43981, 43981, 43981, 43981, 43981,\n",
       "        43981, 43981, 43981, 43981, 43981, 43981, 43981, 43981, 43981,\n",
       "        43981, 43981, 43981, 43981, 43981, 43981, 43981, 43981, 43981,\n",
       "        43981, 43981],\n",
       "       [ 8359, 14837, 11511, 20765, 43981, 16915, 27587, 43981, 43981,\n",
       "        43981, 43981, 43981, 43981, 43981, 43981, 43981, 43981, 43981,\n",
       "        43981, 43981, 43981, 43981, 43981, 43981, 43981, 43981, 43981,\n",
       "        43981, 43981, 43981, 43981, 43981, 43981, 43981, 43981, 43981,\n",
       "        43981, 43981, 43981, 43981, 43981, 43981, 43981, 43981, 43981,\n",
       "        43981, 43981, 43981, 43981, 43981, 43981, 43981, 43981, 43981,\n",
       "        43981, 43981, 43981, 43981, 43981, 43981, 43981, 43981, 43981,\n",
       "        43981, 43981, 43981, 43981, 43981, 43981, 43981, 43981, 43981,\n",
       "        43981, 43981, 43981, 43981, 43981, 43981, 43981, 43981, 43981,\n",
       "        43981, 43981, 43981, 43981, 43981, 43981, 43981, 43981, 43981,\n",
       "        43981, 43981, 43981, 43981, 43981, 43981, 43981, 43981, 43981,\n",
       "        43981, 43981, 43981, 43981, 43981, 43981, 43981, 43981, 43981,\n",
       "        43981, 43981, 43981, 43981, 43981, 43981, 43981, 43981, 43981,\n",
       "        43981, 43981, 43981, 43981, 43981, 43981, 43981, 43981, 43981,\n",
       "        43981, 43981],\n",
       "       [43981, 43981, 43981, 43981, 30736, 16915, 12291, 43981, 16908,\n",
       "        43981, 43981, 43981, 43981, 43981, 43981, 43981, 43981, 43981,\n",
       "        43981, 43981, 43981, 43981, 43981, 43981, 43981, 43981, 43981,\n",
       "        43981, 43981, 43981, 43981, 43981, 43981, 43981, 43981, 43981,\n",
       "        43981, 43981, 43981, 43981, 43981, 43981, 43981, 43981, 43981,\n",
       "        43981, 43981, 43981, 43981, 43981, 43981, 43981, 43981, 43981,\n",
       "        43981, 43981, 43981, 43981, 43981, 43981, 43981, 43981, 43981,\n",
       "        43981, 43981, 43981, 43981, 43981, 43981, 43981, 43981, 43981,\n",
       "        43981, 43981, 43981, 43981, 43981, 43981, 43981, 43981, 43981,\n",
       "        43981, 43981, 43981, 43981, 43981, 43981, 43981, 43981, 43981,\n",
       "        43981, 43981, 43981, 43981, 43981, 43981, 43981, 43981, 43981,\n",
       "        43981, 43981, 43981, 43981, 43981, 43981, 43981, 43981, 43981,\n",
       "        43981, 43981, 43981, 43981, 43981, 43981, 43981, 43981, 43981,\n",
       "        43981, 43981, 43981, 43981, 43981, 43981, 43981, 43981, 43981,\n",
       "        43981, 43981]])"
      ]
     },
     "execution_count": 143,
     "metadata": {},
     "output_type": "execute_result"
    }
   ],
   "source": [
    "train_input[:4]"
   ]
  },
  {
   "cell_type": "code",
   "execution_count": 144,
   "id": "41cf39dd-3ed6-4f37-ade3-6dfe83757b74",
   "metadata": {},
   "outputs": [
    {
     "data": {
      "text/plain": [
       "array([0, 0, 0, 0])"
      ]
     },
     "execution_count": 144,
     "metadata": {},
     "output_type": "execute_result"
    }
   ],
   "source": [
    "train_labels[:4]"
   ]
  },
  {
   "cell_type": "code",
   "execution_count": 145,
   "id": "bfc6c5b8-2231-4046-8536-82321c9f698c",
   "metadata": {},
   "outputs": [],
   "source": [
    "def build_ann_model(num_classes, embeddings_trainable=False):\n",
    "    an_input_layer = tf.keras.layers.Input(shape=(MAX_SEQUENCE_LENGTH,), dtype='int64')\n",
    "    \n",
    "    an_embedding_layer = Embedding(embedding_matrix.shape[0],\n",
    "                                   embedding_matrix.shape[1],\n",
    "                                   embeddings_initializer=tf.keras.initializers.Constant(embedding_matrix),\n",
    "                                   input_length=MAX_SEQUENCE_LENGTH,\n",
    "                                   trainable=embeddings_trainable)\n",
    "    \n",
    "    an_embeddings = an_embedding_layer(an_input_layer)\n",
    "    \n",
    "    an_avg_embeddings = tf.keras.layers.Lambda(lambda x: K.mean(x, axis=1), name='averaging')(an_embeddings)\n",
    "    \n",
    "    an_classification = tf.keras.layers.Dense(num_classes, \n",
    "                                              activation='softmax', \n",
    "                                              name='an_classification')(an_avg_embeddings)\n",
    "    \n",
    "    an_model = tf.keras.models.Model(inputs=an_input_layer, outputs=[an_classification])\n",
    "    \n",
    "    \n",
    "    an_model.compile(loss='categorical_crossentropy',\n",
    "                     optimizer=tf.keras.optimizers.Adam(learning_rate=0.001,\n",
    "                                                        beta_1=0.9,\n",
    "                                                        beta_2=0.999,\n",
    "                                                        epsilon=1e-07,\n",
    "                                                        amsgrad=False,\n",
    "                                                        name='Adam'),\n",
    "                     metrics='accuracy')\n",
    "    return an_model"
   ]
  },
  {
   "cell_type": "code",
   "execution_count": 146,
   "id": "2ea4f3a2-00f5-4c56-b032-f05c5f1b4fb7",
   "metadata": {},
   "outputs": [
    {
     "name": "stdout",
     "output_type": "stream",
     "text": [
      "Model: \"model_6\"\n",
      "_________________________________________________________________\n",
      " Layer (type)                Output Shape              Param #   \n",
      "=================================================================\n",
      " input_7 (InputLayer)        [(None, 128)]             0         \n",
      "                                                                 \n",
      " embedding_6 (Embedding)     (None, 128, 300)          13194600  \n",
      "                                                                 \n",
      " averaging (Lambda)          (None, 300)               0         \n",
      "                                                                 \n",
      " an_classification (Dense)   (None, 3)                 903       \n",
      "                                                                 \n",
      "=================================================================\n",
      "Total params: 13195503 (50.34 MB)\n",
      "Trainable params: 903 (3.53 KB)\n",
      "Non-trainable params: 13194600 (50.33 MB)\n",
      "_________________________________________________________________\n"
     ]
    }
   ],
   "source": [
    "ann_model = build_ann_model(3)\n",
    "ann_model.summary()"
   ]
  },
  {
   "cell_type": "code",
   "execution_count": null,
   "id": "a9e3d78b-0e70-437c-8d2d-738a6f90ab5f",
   "metadata": {},
   "outputs": [],
   "source": []
  },
  {
   "cell_type": "code",
   "execution_count": 148,
   "id": "77292fdc-8afb-4dc4-8756-f61e1e516679",
   "metadata": {},
   "outputs": [
    {
     "name": "stdout",
     "output_type": "stream",
     "text": [
      "Epoch 1/20\n",
      "272/272 [==============================] - 1s 3ms/step - loss: 1.0924 - accuracy: 0.4163 - val_loss: 1.0915 - val_accuracy: 0.4306\n",
      "Epoch 2/20\n",
      "272/272 [==============================] - 1s 2ms/step - loss: 1.0889 - accuracy: 0.4448 - val_loss: 1.0887 - val_accuracy: 0.4278\n",
      "Epoch 3/20\n",
      "272/272 [==============================] - 1s 2ms/step - loss: 1.0858 - accuracy: 0.4474 - val_loss: 1.0862 - val_accuracy: 0.4185\n",
      "Epoch 4/20\n",
      "272/272 [==============================] - 1s 2ms/step - loss: 1.0830 - accuracy: 0.4431 - val_loss: 1.0840 - val_accuracy: 0.4157\n",
      "Epoch 5/20\n",
      "272/272 [==============================] - 1s 2ms/step - loss: 1.0805 - accuracy: 0.4489 - val_loss: 1.0821 - val_accuracy: 0.4194\n",
      "Epoch 6/20\n",
      "272/272 [==============================] - 1s 2ms/step - loss: 1.0783 - accuracy: 0.4479 - val_loss: 1.0804 - val_accuracy: 0.4241\n",
      "Epoch 7/20\n",
      "272/272 [==============================] - 1s 2ms/step - loss: 1.0762 - accuracy: 0.4517 - val_loss: 1.0788 - val_accuracy: 0.4194\n",
      "Epoch 8/20\n",
      "272/272 [==============================] - 1s 2ms/step - loss: 1.0743 - accuracy: 0.4499 - val_loss: 1.0774 - val_accuracy: 0.4148\n",
      "Epoch 9/20\n",
      "272/272 [==============================] - 1s 3ms/step - loss: 1.0726 - accuracy: 0.4502 - val_loss: 1.0761 - val_accuracy: 0.4204\n",
      "Epoch 10/20\n",
      "272/272 [==============================] - 1s 2ms/step - loss: 1.0710 - accuracy: 0.4491 - val_loss: 1.0750 - val_accuracy: 0.4213\n",
      "Epoch 11/20\n",
      "272/272 [==============================] - 1s 3ms/step - loss: 1.0695 - accuracy: 0.4485 - val_loss: 1.0739 - val_accuracy: 0.4222\n",
      "Epoch 12/20\n",
      "272/272 [==============================] - 1s 2ms/step - loss: 1.0681 - accuracy: 0.4521 - val_loss: 1.0729 - val_accuracy: 0.4102\n",
      "Epoch 13/20\n",
      "272/272 [==============================] - 1s 2ms/step - loss: 1.0669 - accuracy: 0.4475 - val_loss: 1.0720 - val_accuracy: 0.4148\n",
      "Epoch 14/20\n",
      "272/272 [==============================] - 1s 2ms/step - loss: 1.0657 - accuracy: 0.4481 - val_loss: 1.0711 - val_accuracy: 0.4148\n",
      "Epoch 15/20\n",
      "272/272 [==============================] - 1s 2ms/step - loss: 1.0645 - accuracy: 0.4551 - val_loss: 1.0703 - val_accuracy: 0.4185\n",
      "Epoch 16/20\n",
      "272/272 [==============================] - 1s 3ms/step - loss: 1.0635 - accuracy: 0.4482 - val_loss: 1.0696 - val_accuracy: 0.4139\n",
      "Epoch 17/20\n",
      "272/272 [==============================] - 1s 2ms/step - loss: 1.0625 - accuracy: 0.4524 - val_loss: 1.0689 - val_accuracy: 0.4120\n",
      "Epoch 18/20\n",
      "272/272 [==============================] - 1s 2ms/step - loss: 1.0615 - accuracy: 0.4516 - val_loss: 1.0682 - val_accuracy: 0.4167\n",
      "Epoch 19/20\n",
      "272/272 [==============================] - 1s 2ms/step - loss: 1.0606 - accuracy: 0.4538 - val_loss: 1.0677 - val_accuracy: 0.4194\n",
      "Epoch 20/20\n",
      "272/272 [==============================] - 1s 3ms/step - loss: 1.0598 - accuracy: 0.4545 - val_loss: 1.0670 - val_accuracy: 0.4157\n"
     ]
    }
   ],
   "source": [
    "ann_history = ann_model.fit(train_input,\n",
    "                          dummy_train_y,\n",
    "                          validation_data=(test_input, dummy_valid_y),\n",
    "                          batch_size=32,\n",
    "                          epochs=20\n",
    "                          )"
   ]
  },
  {
   "cell_type": "code",
   "execution_count": 149,
   "id": "db342d0a-dc41-494f-8b61-0f57bdf2bfc1",
   "metadata": {},
   "outputs": [],
   "source": [
    "def build_dan_model(num_classes, hidden_layer_dims, dropout_rate, embeddings_trainable=False):\n",
    "    dan_input_layer = tf.keras.layers.Input(shape=(MAX_SEQUENCE_LENGTH,), dtype='int64')\n",
    "    dan_embedding_layer = Embedding(embedding_matrix.shape[0],\n",
    "                                    embedding_matrix.shape[1],\n",
    "                                    embeddings_initializer=tf.keras.initializers.Constant(embedding_matrix),\n",
    "                                    input_length=MAX_SEQUENCE_LENGTH,\n",
    "                                    trainable=embeddings_trainable)\n",
    "    dan_embeddings = dan_embedding_layer(dan_input_layer)\n",
    "    dan_avg_embeddings = tf.keras.layers.Lambda(lambda x: K.mean(x, axis=1),\n",
    "                                                name='averaging')(dan_embeddings)\n",
    "    last_hidden_output = dan_avg_embeddings\n",
    "\n",
    "    for i, h_dim in enumerate(hidden_layer_dims):\n",
    "        last_hidden_output = tf.keras.layers.Dense(h_dim, activation='relu',\n",
    "                                                   name='dan_hidden_%d' % i)(last_hidden_output)\n",
    "        last_hidden_output = tf.keras.layers.Dropout(dropout_rate)(last_hidden_output)\n",
    "    \n",
    "    dan_classification = tf.keras.layers.Dense(3,\n",
    "                                               activation='softmax',\n",
    "                                               name='dan_classification')(last_hidden_output)\n",
    "    \n",
    "    dan_model = tf.keras.models.Model(inputs=dan_input_layer, outputs=[dan_classification])\n",
    "    dan_model.compile(loss='categorical_crossentropy',\n",
    "                      optimizer=tf.keras.optimizers.Adam(learning_rate=0.001,\n",
    "                                                         beta_1=0.9,\n",
    "                                                         beta_2=0.999,\n",
    "                                                         epsilon=1e-07,\n",
    "                                                         amsgrad=False,\n",
    "                                                         name='Adam'),\n",
    "                      metrics='accuracy')\n",
    "    return dan_model"
   ]
  },
  {
   "cell_type": "code",
   "execution_count": 150,
   "id": "88b1dbdc-7d68-4ddc-811b-df497228e3d3",
   "metadata": {},
   "outputs": [
    {
     "name": "stderr",
     "output_type": "stream",
     "text": [
      "python(80493) MallocStackLogging: can't turn off malloc stack logging because it was not enabled.\n",
      "python(80494) MallocStackLogging: can't turn off malloc stack logging because it was not enabled.\n"
     ]
    },
    {
     "data": {
      "image/png": "[encoded data removed]",
      "text/plain": [
       "<IPython.core.display.Image object>"
      ]
     },
     "execution_count": 150,
     "metadata": {},
     "output_type": "execute_result"
    }
   ],
   "source": [
    "# Now call our function to create a DAN model, and show the model diagram\n",
    "\n",
    "hidden_layer_sizes = [100, 50]\n",
    "dropout_rate = 0.5\n",
    "num_classes = 3\n",
    "\n",
    "dan_model = build_dan_model(num_classes, hidden_layer_sizes, dropout_rate)\n",
    "keras.utils.plot_model(dan_model, show_shapes=True, dpi=90)"
   ]
  },
  {
   "cell_type": "code",
   "execution_count": 151,
   "id": "a1ce137f-951d-44f5-b6cd-b725a28b3e3d",
   "metadata": {},
   "outputs": [
    {
     "name": "stdout",
     "output_type": "stream",
     "text": [
      "Epoch 1/20\n",
      "272/272 [==============================] - 2s 4ms/step - loss: 1.0916 - accuracy: 0.3825 - val_loss: 1.0806 - val_accuracy: 0.4204\n",
      "Epoch 2/20\n",
      "272/272 [==============================] - 1s 3ms/step - loss: 1.0718 - accuracy: 0.4118 - val_loss: 1.0687 - val_accuracy: 0.4194\n",
      "Epoch 3/20\n",
      "272/272 [==============================] - 1s 3ms/step - loss: 1.0604 - accuracy: 0.4248 - val_loss: 1.0601 - val_accuracy: 0.4296\n",
      "Epoch 4/20\n",
      "272/272 [==============================] - 1s 3ms/step - loss: 1.0519 - accuracy: 0.4372 - val_loss: 1.0526 - val_accuracy: 0.4287\n",
      "Epoch 5/20\n",
      "272/272 [==============================] - 1s 2ms/step - loss: 1.0456 - accuracy: 0.4464 - val_loss: 1.0438 - val_accuracy: 0.4519\n",
      "Epoch 6/20\n",
      "272/272 [==============================] - 1s 3ms/step - loss: 1.0360 - accuracy: 0.4598 - val_loss: 1.0376 - val_accuracy: 0.4648\n",
      "Epoch 7/20\n",
      "272/272 [==============================] - 1s 3ms/step - loss: 1.0331 - accuracy: 0.4622 - val_loss: 1.0359 - val_accuracy: 0.4796\n",
      "Epoch 8/20\n",
      "272/272 [==============================] - 1s 3ms/step - loss: 1.0231 - accuracy: 0.4720 - val_loss: 1.0282 - val_accuracy: 0.4583\n",
      "Epoch 9/20\n",
      "272/272 [==============================] - 1s 3ms/step - loss: 1.0178 - accuracy: 0.4763 - val_loss: 1.0210 - val_accuracy: 0.4528\n",
      "Epoch 10/20\n",
      "272/272 [==============================] - 1s 3ms/step - loss: 1.0135 - accuracy: 0.4789 - val_loss: 1.0183 - val_accuracy: 0.4759\n",
      "Epoch 11/20\n",
      "272/272 [==============================] - 1s 3ms/step - loss: 1.0125 - accuracy: 0.4826 - val_loss: 1.0158 - val_accuracy: 0.4769\n",
      "Epoch 12/20\n",
      "272/272 [==============================] - 1s 3ms/step - loss: 1.0108 - accuracy: 0.4836 - val_loss: 1.0122 - val_accuracy: 0.4843\n",
      "Epoch 13/20\n",
      "272/272 [==============================] - 1s 2ms/step - loss: 1.0051 - accuracy: 0.4855 - val_loss: 1.0124 - val_accuracy: 0.4815\n",
      "Epoch 14/20\n",
      "272/272 [==============================] - 1s 3ms/step - loss: 1.0041 - accuracy: 0.4932 - val_loss: 1.0096 - val_accuracy: 0.4889\n",
      "Epoch 15/20\n",
      "272/272 [==============================] - 1s 3ms/step - loss: 1.0008 - accuracy: 0.4941 - val_loss: 1.0085 - val_accuracy: 0.4806\n",
      "Epoch 16/20\n",
      "272/272 [==============================] - 1s 3ms/step - loss: 1.0007 - accuracy: 0.4915 - val_loss: 1.0059 - val_accuracy: 0.4815\n",
      "Epoch 17/20\n",
      "272/272 [==============================] - 1s 3ms/step - loss: 0.9973 - accuracy: 0.5006 - val_loss: 1.0031 - val_accuracy: 0.4917\n",
      "Epoch 18/20\n",
      "272/272 [==============================] - 1s 3ms/step - loss: 0.9927 - accuracy: 0.4947 - val_loss: 1.0028 - val_accuracy: 0.4935\n",
      "Epoch 19/20\n",
      "272/272 [==============================] - 1s 3ms/step - loss: 0.9937 - accuracy: 0.4987 - val_loss: 1.0019 - val_accuracy: 0.4880\n",
      "Epoch 20/20\n",
      "272/272 [==============================] - 1s 3ms/step - loss: 0.9882 - accuracy: 0.5068 - val_loss: 1.0007 - val_accuracy: 0.4889\n"
     ]
    }
   ],
   "source": [
    "dan_history = dan_model.fit(train_input,\n",
    "                          dummy_train_y,\n",
    "                          validation_data=(test_input, dummy_valid_y),\n",
    "                          batch_size=32,\n",
    "                          epochs=20\n",
    "                            )"
   ]
  },
  {
   "cell_type": "code",
   "execution_count": 152,
   "id": "bb9500ff-85a5-4224-9c9d-9bdaf63d3619",
   "metadata": {},
   "outputs": [],
   "source": [
    "# 4-window plot of loss and accuracy for two models, for comparison\n",
    "\n",
    "def make_plot(axs,\n",
    "              model_history1, \n",
    "              model_history2, \n",
    "              model_1_name='model 1',\n",
    "              model_2_name='model 2',\n",
    "              ):\n",
    "    box = dict(facecolor='yellow', pad=5, alpha=0.2)\n",
    "\n",
    "    for i, metric in enumerate(['loss', 'accuracy']):\n",
    "        y_lim_lower1 = np.min(model_history1.history[metric])\n",
    "        y_lim_lower2 = np.min(model_history2.history[metric])\n",
    "        y_lim_lower = min(y_lim_lower1, y_lim_lower2) * 0.9\n",
    "\n",
    "        y_lim_upper1 = np.max(model_history1.history[metric])\n",
    "        y_lim_upper2 = np.max(model_history2.history[metric])\n",
    "        y_lim_upper = max(y_lim_upper1, y_lim_upper2) * 1.1\n",
    "\n",
    "        for j, model_history in enumerate([model_history1, model_history2]):\n",
    "            model_name = [model_1_name, model_2_name][j]\n",
    "            ax1 = axs[i, j]\n",
    "            ax1.plot(model_history.history[metric])\n",
    "            ax1.plot(model_history.history['val_%s' % metric])\n",
    "            ax1.set_title('%s - %s' % (metric, model_name))\n",
    "            ax1.set_ylabel(metric, bbox=box)\n",
    "            ax1.set_ylim(y_lim_lower, y_lim_upper)"
   ]
  },
  {
   "cell_type": "code",
   "execution_count": 153,
   "id": "96525781-d405-4e70-973a-82d279d8a699",
   "metadata": {},
   "outputs": [
    {
     "data": {
      "image/png": "[encoded data removed]",
      "text/plain": [
       "<Figure size 1332x756 with 4 Axes>"
      ]
     },
     "metadata": {
      "needs_background": "light"
     },
     "output_type": "display_data"
    }
   ],
   "source": [
    "fig, axs = plt.subplots(2, 2)\n",
    "fig.subplots_adjust(left=0.2, wspace=0.6)\n",
    "make_plot(axs,\n",
    "          ann_history,\n",
    "          dan_history,\n",
    "          model_1_name='ann',\n",
    "          model_2_name='dan')\n",
    "\n",
    "fig.align_ylabels(axs[:, 1])\n",
    "fig.set_size_inches(18.5, 10.5)\n",
    "plt.show()"
   ]
  },
  {
   "cell_type": "markdown",
   "id": "5977538a-c9e5-4bce-b2ef-29c2ae4f083d",
   "metadata": {},
   "source": [
    "# CNN"
   ]
  },
  {
   "cell_type": "code",
   "execution_count": 154,
   "id": "92ac0616-a198-4eb3-a7d4-13d85c688552",
   "metadata": {},
   "outputs": [],
   "source": [
    "def build_cnn_model(num_classes, num_filters, kernel_sizes, dense_layer_dims, dropout_rate, embeddings_trainable=False):\n",
    "    cnn_input_layer = tf.keras.layers.Input(shape=(MAX_SEQUENCE_LENGTH,), dtype='int64')\n",
    "    cnn_embedding_layer = Embedding(embedding_matrix.shape[0],\n",
    "                                    embedding_matrix.shape[1],\n",
    "                                    embeddings_initializer=tf.keras.initializers.Constant(embedding_matrix),\n",
    "                                    input_length=MAX_SEQUENCE_LENGTH,\n",
    "                                    trainable=embeddings_trainable)\n",
    "    cnn_embeddings = cnn_embedding_layer(cnn_input_layer)\n",
    "\n",
    "    conv_layers_for_all_kernel_sizes = []\n",
    "    for kernel_size, filters in zip(kernel_sizes, num_filters):\n",
    "        conv_layer = keras.layers.Conv1D(filters=filters, kernel_size=kernel_size, activation='relu')(cnn_embeddings)\n",
    "        conv_layer = keras.layers.GlobalMaxPooling1D()(conv_layer)\n",
    "        conv_layers_for_all_kernel_sizes.append(conv_layer)\n",
    "    \n",
    "    conv_output = keras.layers.concatenate(conv_layers_for_all_kernel_sizes, axis=1)\n",
    "    last_hidden_output = keras.layers.Dropout(rate=dropout_rate)(conv_output)\n",
    "\n",
    "    for dense_layer_dim in dense_layer_dims:\n",
    "        last_hidden_output = keras.layers.Dense(dense_layer_dim, activation='relu')(last_hidden_output)\n",
    "    \n",
    "    cnn_prediction = keras.layers.Dense(num_classes, activation='softmax')(last_hidden_output)\n",
    "\n",
    "    cnn_model = keras.Model(inputs=cnn_input_layer, outputs=cnn_prediction)\n",
    "    cnn_model.compile(optimizer='adam',\n",
    "                      loss='categorical_crossentropy',  # From information theory notebooks.\n",
    "                      metrics=['accuracy'])\n",
    "    return cnn_model"
   ]
  },
  {
   "cell_type": "code",
   "execution_count": 155,
   "id": "d4347f8e-ee85-45cb-b80b-b86d86b11fc3",
   "metadata": {},
   "outputs": [],
   "source": [
    "# Now specify model hyperparameters and call the function to create a CNN model\n",
    "\n",
    "num_classes = 3\n",
    "num_filters = [100, 100, 50, 25]\n",
    "kernel_sizes = [3, 4, 5, 10]\n",
    "dense_layer_dims = [100, 50]\n",
    "dropout_rate = 0.5\n",
    "\n",
    "cnn_model = build_cnn_model(num_classes, num_filters, kernel_sizes, dense_layer_dims, dropout_rate)"
   ]
  },
  {
   "cell_type": "code",
   "execution_count": 156,
   "id": "bed01dff-3971-4067-97bc-e97088d8b210",
   "metadata": {},
   "outputs": [
    {
     "name": "stdout",
     "output_type": "stream",
     "text": [
      "Model: \"model_8\"\n",
      "__________________________________________________________________________________________________\n",
      " Layer (type)                Output Shape                 Param #   Connected to                  \n",
      "==================================================================================================\n",
      " input_9 (InputLayer)        [(None, 128)]                0         []                            \n",
      "                                                                                                  \n",
      " embedding_8 (Embedding)     (None, 128, 300)             1319460   ['input_9[0][0]']             \n",
      "                                                          0                                       \n",
      "                                                                                                  \n",
      " conv1d_4 (Conv1D)           (None, 126, 100)             90100     ['embedding_8[0][0]']         \n",
      "                                                                                                  \n",
      " conv1d_5 (Conv1D)           (None, 125, 100)             120100    ['embedding_8[0][0]']         \n",
      "                                                                                                  \n",
      " conv1d_6 (Conv1D)           (None, 124, 50)              75050     ['embedding_8[0][0]']         \n",
      "                                                                                                  \n",
      " conv1d_7 (Conv1D)           (None, 119, 25)              75025     ['embedding_8[0][0]']         \n",
      "                                                                                                  \n",
      " global_max_pooling1d_4 (Gl  (None, 100)                  0         ['conv1d_4[0][0]']            \n",
      " obalMaxPooling1D)                                                                                \n",
      "                                                                                                  \n",
      " global_max_pooling1d_5 (Gl  (None, 100)                  0         ['conv1d_5[0][0]']            \n",
      " obalMaxPooling1D)                                                                                \n",
      "                                                                                                  \n",
      " global_max_pooling1d_6 (Gl  (None, 50)                   0         ['conv1d_6[0][0]']            \n",
      " obalMaxPooling1D)                                                                                \n",
      "                                                                                                  \n",
      " global_max_pooling1d_7 (Gl  (None, 25)                   0         ['conv1d_7[0][0]']            \n",
      " obalMaxPooling1D)                                                                                \n",
      "                                                                                                  \n",
      " concatenate_1 (Concatenate  (None, 275)                  0         ['global_max_pooling1d_4[0][0]\n",
      " )                                                                  ',                            \n",
      "                                                                     'global_max_pooling1d_5[0][0]\n",
      "                                                                    ',                            \n",
      "                                                                     'global_max_pooling1d_6[0][0]\n",
      "                                                                    ',                            \n",
      "                                                                     'global_max_pooling1d_7[0][0]\n",
      "                                                                    ']                            \n",
      "                                                                                                  \n",
      " dropout_8 (Dropout)         (None, 275)                  0         ['concatenate_1[0][0]']       \n",
      "                                                                                                  \n",
      " dense_9 (Dense)             (None, 100)                  27600     ['dropout_8[0][0]']           \n",
      "                                                                                                  \n",
      " dense_10 (Dense)            (None, 50)                   5050      ['dense_9[0][0]']             \n",
      "                                                                                                  \n",
      " dense_11 (Dense)            (None, 3)                    153       ['dense_10[0][0]']            \n",
      "                                                                                                  \n",
      "==================================================================================================\n",
      "Total params: 13587678 (51.83 MB)\n",
      "Trainable params: 393078 (1.50 MB)\n",
      "Non-trainable params: 13194600 (50.33 MB)\n",
      "__________________________________________________________________________________________________\n"
     ]
    }
   ],
   "source": [
    "cnn_model.summary()"
   ]
  },
  {
   "cell_type": "code",
   "execution_count": 157,
   "id": "bf07ab1d-4da5-43e8-844f-4a16da7ca074",
   "metadata": {},
   "outputs": [
    {
     "name": "stdout",
     "output_type": "stream",
     "text": [
      "Epoch 1/5\n",
      "272/272 [==============================] - 20s 68ms/step - loss: 1.0590 - accuracy: 0.4232 - val_loss: 1.0283 - val_accuracy: 0.4694\n",
      "Epoch 2/5\n",
      "272/272 [==============================] - 17s 64ms/step - loss: 0.9894 - accuracy: 0.5023 - val_loss: 1.0135 - val_accuracy: 0.4667\n",
      "Epoch 3/5\n",
      "272/272 [==============================] - 17s 63ms/step - loss: 0.9248 - accuracy: 0.5508 - val_loss: 0.9956 - val_accuracy: 0.4926\n",
      "Epoch 4/5\n",
      "272/272 [==============================] - 17s 63ms/step - loss: 0.8258 - accuracy: 0.6184 - val_loss: 1.0377 - val_accuracy: 0.4685\n",
      "Epoch 5/5\n",
      "272/272 [==============================] - 18s 64ms/step - loss: 0.7197 - accuracy: 0.6850 - val_loss: 1.0812 - val_accuracy: 0.4870\n"
     ]
    }
   ],
   "source": [
    "cnn_history = cnn_model.fit(train_input,\n",
    "                          dummy_train_y,\n",
    "                          validation_data=(test_input, dummy_valid_y),\n",
    "                          batch_size=32,\n",
    "                          epochs=5\n",
    "                            )"
   ]
  },
  {
   "cell_type": "markdown",
   "id": "e37e11d3-444c-4186-a0da-9a965066ad4b",
   "metadata": {},
   "source": [
    "# RNN"
   ]
  },
  {
   "cell_type": "code",
   "execution_count": 158,
   "id": "a6f030c4-f19f-4908-ab3b-9d0243b7af6b",
   "metadata": {},
   "outputs": [],
   "source": [
    "def build_rnn_model(num_classes, rnn_dim, dense_layer_dims, dropout_rate, embeddings_trainable=True):\n",
    "    rnn_input_layer = tf.keras.layers.Input(shape=(MAX_SEQUENCE_LENGTH,), dtype='int64')\n",
    "    rnn_embedding_layer = Embedding(embedding_matrix.shape[0],\n",
    "                                    embedding_matrix.shape[1],\n",
    "                                    embeddings_initializer=tf.keras.initializers.Constant(embedding_matrix),\n",
    "                                    input_length=MAX_SEQUENCE_LENGTH,\n",
    "                                    trainable=embeddings_trainable)\n",
    "    rnn_embeddings = rnn_embedding_layer(rnn_input_layer)\n",
    "\n",
    "    # only return the last output from the RNN calculation \n",
    "    rnn_output = tf.keras.layers.LSTM(rnn_dim, return_sequences=False, return_state=False, name='LSTM')\\\n",
    "        (rnn_embeddings)\n",
    "    last_hidden_output = rnn_output\n",
    "    \n",
    "    for dense_layer_dim in dense_layer_dims:\n",
    "        last_hidden_output = keras.layers.Dense(dense_layer_dim, activation='relu')(last_hidden_output)\n",
    "        last_hidden_output = keras.layers.Dropout(rate=dropout_rate)(last_hidden_output)\n",
    "    \n",
    "    rnn_prediction = keras.layers.Dense(num_classes, activation='softmax')(last_hidden_output)\n",
    "\n",
    "    rnn_model = keras.Model(inputs=rnn_input_layer, outputs=rnn_prediction)\n",
    "    rnn_model.compile(optimizer='adam',\n",
    "                      loss='categorical_crossentropy',  # From information theory notebooks.\n",
    "                      metrics=['accuracy'])\n",
    "    return rnn_model"
   ]
  },
  {
   "cell_type": "code",
   "execution_count": 159,
   "id": "8283c31f-ad4e-424a-993d-318e7dbed38d",
   "metadata": {},
   "outputs": [
    {
     "name": "stderr",
     "output_type": "stream",
     "text": [
      "python(80523) MallocStackLogging: can't turn off malloc stack logging because it was not enabled.\n",
      "python(80524) MallocStackLogging: can't turn off malloc stack logging because it was not enabled.\n"
     ]
    },
    {
     "data": {
      "image/png": "[encoded data removed]",
      "text/plain": [
       "<IPython.core.display.Image object>"
      ]
     },
     "execution_count": 159,
     "metadata": {},
     "output_type": "execute_result"
    }
   ],
   "source": [
    "rnn_dim = 100\n",
    "dense_layer_dims = [100]\n",
    "dropout_rate = 0.5\n",
    "num_classes = 3\n",
    "rnn_model = build_rnn_model(num_classes,\n",
    "                            rnn_dim,\n",
    "                            dense_layer_dims,\n",
    "                            dropout_rate,\n",
    "                            embeddings_trainable=False)\n",
    "keras.utils.plot_model(rnn_model, show_shapes=True, dpi=90)"
   ]
  },
  {
   "cell_type": "code",
   "execution_count": 160,
   "id": "62820a1e-9120-40f1-ba8a-dd7afb806184",
   "metadata": {},
   "outputs": [
    {
     "name": "stdout",
     "output_type": "stream",
     "text": [
      "Epoch 1/5\n",
      "272/272 [==============================] - 25s 85ms/step - loss: 1.0992 - accuracy: 0.3378 - val_loss: 1.0987 - val_accuracy: 0.3333\n",
      "Epoch 2/5\n",
      "272/272 [==============================] - 18s 65ms/step - loss: 1.0990 - accuracy: 0.3339 - val_loss: 1.0988 - val_accuracy: 0.3333\n",
      "Epoch 3/5\n",
      "272/272 [==============================] - 18s 67ms/step - loss: 1.0991 - accuracy: 0.3261 - val_loss: 1.0986 - val_accuracy: 0.3333\n",
      "Epoch 4/5\n",
      "272/272 [==============================] - 18s 66ms/step - loss: 1.0990 - accuracy: 0.3315 - val_loss: 1.0986 - val_accuracy: 0.3333\n",
      "Epoch 5/5\n",
      "272/272 [==============================] - 19s 68ms/step - loss: 1.0987 - accuracy: 0.3267 - val_loss: 1.0986 - val_accuracy: 0.3333\n"
     ]
    }
   ],
   "source": [
    "rnn_history = rnn_model.fit(train_input,\n",
    "                          dummy_train_y,\n",
    "                          validation_data=(test_input, dummy_valid_y),\n",
    "                          batch_size=32,\n",
    "                          epochs=5\n",
    "                            )"
   ]
  },
  {
   "cell_type": "code",
   "execution_count": 161,
   "id": "e0a80d29-db51-4125-8cb2-6751053cef53",
   "metadata": {},
   "outputs": [
    {
     "data": {
      "image/png": "[encoded data removed]",
      "text/plain": [
       "<Figure size 1332x756 with 4 Axes>"
      ]
     },
     "metadata": {
      "needs_background": "light"
     },
     "output_type": "display_data"
    }
   ],
   "source": [
    "fig, axs = plt.subplots(2, 2)\n",
    "fig.subplots_adjust(left=0.2, wspace=0.6)\n",
    "make_plot(axs, \n",
    "          cnn_history, \n",
    "          rnn_history, \n",
    "          model_1_name='cnn',\n",
    "          model_2_name='rnn')\n",
    "\n",
    "fig.align_ylabels(axs[:, 1])\n",
    "fig.set_size_inches(18.5, 10.5)\n",
    "plt.show()"
   ]
  },
  {
   "cell_type": "markdown",
   "id": "782b0233-4cbb-446c-ac0d-b99dc8effd10",
   "metadata": {},
   "source": [
    "# Stacked RNN"
   ]
  },
  {
   "cell_type": "code",
   "execution_count": 162,
   "id": "ba39ae24-51d7-44da-a526-e986fbdcb622",
   "metadata": {},
   "outputs": [],
   "source": [
    "def build_stacked_rnn_model(num_classes, rnn_dim, dense_layer_dims, dropout_rate, embeddings_trainable=False):\n",
    "    rnn_input_layer = tf.keras.layers.Input(shape=(MAX_SEQUENCE_LENGTH,), dtype='int64')\n",
    "    rnn_embedding_layer = Embedding(embedding_matrix.shape[0],\n",
    "                                    embedding_matrix.shape[1],\n",
    "                                    embeddings_initializer=tf.keras.initializers.Constant(embedding_matrix),\n",
    "                                    input_length=MAX_SEQUENCE_LENGTH,\n",
    "                                    trainable=embeddings_trainable)\n",
    "    rnn_embeddings = rnn_embedding_layer(rnn_input_layer)\n",
    "\n",
    "    # Now do the stacked one\n",
    "    #first one is called sequence output and change return_seq = True\n",
    "    rnn_seq_output = tf.keras.layers.LSTM(rnn_dim, return_sequences=True, return_state=False, name='LSTM1')\\\n",
    "        (rnn_embeddings)\n",
    "    \n",
    "    rnn_output = tf.keras.layers.LSTM(rnn_dim, return_sequences=False, return_state=False, name='LSTM2')\\\n",
    "        (rnn_seq_output) # calc the seq here\n",
    "    last_hidden_output = rnn_output\n",
    "    \n",
    "    for dense_layer_dim in dense_layer_dims:\n",
    "        last_hidden_output = keras.layers.Dense(dense_layer_dim, activation='relu')(last_hidden_output)\n",
    "        last_hidden_output = keras.layers.Dropout(rate=dropout_rate)(last_hidden_output)\n",
    "    \n",
    "    rnn_prediction = keras.layers.Dense(num_classes, activation='softmax')(last_hidden_output)\n",
    "\n",
    "    rnn_model = keras.Model(inputs=rnn_input_layer, outputs=rnn_prediction)\n",
    "    rnn_model.compile(optimizer='adam',\n",
    "                      loss='categorical_crossentropy',  # From information theory notebooks.\n",
    "                      metrics=['accuracy'])\n",
    "    return rnn_model"
   ]
  },
  {
   "cell_type": "code",
   "execution_count": 163,
   "id": "411f6ed8-27e0-4ac9-acaa-f39c8af0a025",
   "metadata": {},
   "outputs": [],
   "source": [
    "rnn_dim = 100\n",
    "dense_layer_dims = [100]\n",
    "dropout_rate = 0.5\n",
    "num_classes = 3\n",
    "\n",
    "stack_rnn_model = build_stacked_rnn_model(num_classes, \n",
    "                                          rnn_dim,\n",
    "                                            dense_layer_dims,\n",
    "                                            dropout_rate,\n",
    "                                            embeddings_trainable=False)"
   ]
  },
  {
   "cell_type": "code",
   "execution_count": 164,
   "id": "f3a8826e-643a-4f3c-967d-5caea5260bc7",
   "metadata": {},
   "outputs": [
    {
     "name": "stdout",
     "output_type": "stream",
     "text": [
      "Epoch 1/5\n",
      "272/272 [==============================] - 39s 136ms/step - loss: 1.0992 - accuracy: 0.3344 - val_loss: 1.0987 - val_accuracy: 0.3333\n",
      "Epoch 2/5\n",
      "272/272 [==============================] - 33s 121ms/step - loss: 1.0991 - accuracy: 0.3322 - val_loss: 1.0987 - val_accuracy: 0.3333\n",
      "Epoch 3/5\n",
      "272/272 [==============================] - 33s 122ms/step - loss: 1.0992 - accuracy: 0.3252 - val_loss: 1.0987 - val_accuracy: 0.3333\n",
      "Epoch 4/5\n",
      "272/272 [==============================] - 34s 124ms/step - loss: 1.0989 - accuracy: 0.3361 - val_loss: 1.0987 - val_accuracy: 0.3333\n",
      "Epoch 5/5\n",
      "272/272 [==============================] - 35s 129ms/step - loss: 1.0990 - accuracy: 0.3374 - val_loss: 1.0986 - val_accuracy: 0.3333\n"
     ]
    }
   ],
   "source": [
    "stack_rnn_history = stack_rnn_model.fit(train_input,\n",
    "                          dummy_train_y,\n",
    "                          validation_data=(test_input, dummy_valid_y),\n",
    "                          batch_size=32,\n",
    "                          epochs=5\n",
    "                            )"
   ]
  },
  {
   "cell_type": "markdown",
   "id": "433e3e7e-0caa-45fb-b78c-22e05ac62a96",
   "metadata": {},
   "source": [
    "# BiDirectional RNN"
   ]
  },
  {
   "cell_type": "code",
   "execution_count": 165,
   "id": "804f2373-d36c-41e3-93dd-838d6e46de54",
   "metadata": {},
   "outputs": [],
   "source": [
    "def build_bidirectional_rnn_model(num_classes, rnn_dim, dense_layer_dims, dropout_rate, embeddings_trainable=False):\n",
    "    rnn_input_layer = tf.keras.layers.Input(shape=(MAX_SEQUENCE_LENGTH,), dtype='int64')\n",
    "    rnn_embedding_layer = Embedding(embedding_matrix.shape[0],\n",
    "                                    embedding_matrix.shape[1],\n",
    "                                    embeddings_initializer=tf.keras.initializers.Constant(embedding_matrix),\n",
    "                                    input_length=MAX_SEQUENCE_LENGTH,\n",
    "                                    trainable=embeddings_trainable)\n",
    "    rnn_embeddings = rnn_embedding_layer(rnn_input_layer)\n",
    "\n",
    "    # Now do the Bidirectional one\n",
    "    #first one is called sequence output and change return_seq = True\n",
    "    rnn_output = tf.keras.layers.Bidirectional(tf.keras.layers.LSTM(rnn_dim, return_sequences=False, return_state=False, name='LSTM1'))\\\n",
    "        (rnn_embeddings)\n",
    "    \n",
    "    last_hidden_output = rnn_output\n",
    "    \n",
    "    for dense_layer_dim in dense_layer_dims:\n",
    "        last_hidden_output = keras.layers.Dense(dense_layer_dim, activation='relu')(last_hidden_output)\n",
    "        last_hidden_output = keras.layers.Dropout(rate=dropout_rate)(last_hidden_output)\n",
    "    \n",
    "    rnn_prediction = keras.layers.Dense(num_classes, activation='softmax')(last_hidden_output)\n",
    "\n",
    "    rnn_model = keras.Model(inputs=rnn_input_layer, outputs=rnn_prediction)\n",
    "    rnn_model.compile(optimizer='adam',\n",
    "                      loss='categorical_crossentropy',  \n",
    "                      metrics=['accuracy'])\n",
    "    return rnn_model"
   ]
  },
  {
   "cell_type": "code",
   "execution_count": 166,
   "id": "cbd57e8e-e5c4-4161-9063-8baa559a9a26",
   "metadata": {},
   "outputs": [],
   "source": [
    "rnn_dim = 100\n",
    "dense_layer_dims = [100]\n",
    "dropout_rate = 0.5\n",
    "num_classes = 3\n",
    "\n",
    "bi_rnn_model = build_bidirectional_rnn_model(num_classes,\n",
    "                                             rnn_dim,\n",
    "                                            dense_layer_dims,\n",
    "                                            dropout_rate,\n",
    "                                            embeddings_trainable=False)"
   ]
  },
  {
   "cell_type": "code",
   "execution_count": 167,
   "id": "762334a5-37a3-4d9b-af9a-9c4b0cb91738",
   "metadata": {},
   "outputs": [
    {
     "name": "stdout",
     "output_type": "stream",
     "text": [
      "Epoch 1/5\n",
      "272/272 [==============================] - 37s 128ms/step - loss: 1.0456 - accuracy: 0.4394 - val_loss: 1.0169 - val_accuracy: 0.4861\n",
      "Epoch 2/5\n",
      "272/272 [==============================] - 33s 121ms/step - loss: 0.9976 - accuracy: 0.4916 - val_loss: 1.0054 - val_accuracy: 0.4935\n",
      "Epoch 3/5\n",
      "272/272 [==============================] - 34s 125ms/step - loss: 0.9794 - accuracy: 0.5088 - val_loss: 1.0072 - val_accuracy: 0.4759\n",
      "Epoch 4/5\n",
      "272/272 [==============================] - 36s 133ms/step - loss: 0.9618 - accuracy: 0.5179 - val_loss: 1.0176 - val_accuracy: 0.4861\n",
      "Epoch 5/5\n",
      "272/272 [==============================] - 35s 128ms/step - loss: 0.9475 - accuracy: 0.5336 - val_loss: 1.0131 - val_accuracy: 0.4898\n"
     ]
    }
   ],
   "source": [
    "bi_rnn_history = bi_rnn_model.fit(train_input,\n",
    "                          dummy_train_y,\n",
    "                          validation_data=(test_input, dummy_valid_y),\n",
    "                          batch_size=32,\n",
    "                          epochs=5\n",
    "                            )"
   ]
  },
  {
   "cell_type": "code",
   "execution_count": 168,
   "id": "b3c65148-63f9-4a47-962c-bd57f8be6e47",
   "metadata": {},
   "outputs": [
    {
     "data": {
      "image/png": "[encoded data removed]",
      "text/plain": [
       "<Figure size 1332x756 with 4 Axes>"
      ]
     },
     "metadata": {
      "needs_background": "light"
     },
     "output_type": "display_data"
    }
   ],
   "source": [
    "fig, axs = plt.subplots(2, 2)\n",
    "fig.subplots_adjust(left=0.2, wspace=0.6)\n",
    "make_plot(axs, \n",
    "          stack_rnn_history, \n",
    "          bi_rnn_history, \n",
    "          model_1_name='stacked RNN',\n",
    "          model_2_name='BIdirectional RNN')\n",
    "\n",
    "fig.align_ylabels(axs[:, 1])\n",
    "fig.set_size_inches(18.5, 10.5)\n",
    "plt.show()"
   ]
  },
  {
   "cell_type": "code",
   "execution_count": null,
   "id": "f5240a44-24b1-4ccb-87aa-ef5bf3b4e4a2",
   "metadata": {},
   "outputs": [],
   "source": []
  }
 ],
 "metadata": {
  "kernelspec": {
   "display_name": "Python 3 (ipykernel)",
   "language": "python",
   "name": "python3"
  },
  "language_info": {
   "codemirror_mode": {
    "name": "ipython",
    "version": 3
   },
   "file_extension": ".py",
   "mimetype": "text/x-python",
   "name": "python",
   "nbconvert_exporter": "python",
   "pygments_lexer": "ipython3",
   "version": "3.9.7"
  }
 },
 "nbformat": 4,
 "nbformat_minor": 5
}
