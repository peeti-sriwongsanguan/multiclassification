{
 "cells": [
  {
   "cell_type": "code",
   "execution_count": 1,
   "id": "c0f5c760-48d4-49e2-ae4b-f9777c19a55c",
   "metadata": {},
   "outputs": [
    {
     "name": "stderr",
     "output_type": "stream",
     "text": [
      "2023-11-05 15:07:59.387226: I tensorflow/core/platform/cpu_feature_guard.cc:182] This TensorFlow binary is optimized to use available CPU instructions in performance-critical operations.\n",
      "To enable the following instructions: AVX2 AVX512F AVX512_VNNI FMA, in other operations, rebuild TensorFlow with the appropriate compiler flags.\n"
     ]
    }
   ],
   "source": [
    "from watclaimdata import test_df,train_df,valid_df\n",
    "\n",
    "import numpy as np\n",
    "import tensorflow as tf\n",
    "from tensorflow import keras\n",
    "\n",
    "from tensorflow.keras.layers import Embedding, Input, Dense, Lambda\n",
    "from tensorflow.keras.models import Model\n",
    "import tensorflow.keras.backend as K\n",
    "import tensorflow_datasets as tfds\n",
    "import tensorflow_text as tf_text\n",
    "\n",
    "import sklearn as sk\n",
    "import os\n",
    "import nltk\n",
    "from nltk.data import find\n",
    "\n",
    "import matplotlib.pyplot as plt\n",
    "\n",
    "import re\n",
    "import pandas as pd\n",
    "\n",
    "import gensim\n",
    "from gensim.models import Word2Vec\n",
    "from gensim.models import KeyedVectors\n",
    "from gensim.test.utils import datapath"
   ]
  },
  {
   "cell_type": "code",
   "execution_count": 2,
   "id": "ab6fa8e3-7bf5-45c4-982f-2746f2425f64",
   "metadata": {},
   "outputs": [
    {
     "data": {
      "text/html": [
       "<div>\n",
       "<style scoped>\n",
       "    .dataframe tbody tr th:only-of-type {\n",
       "        vertical-align: middle;\n",
       "    }\n",
       "\n",
       "    .dataframe tbody tr th {\n",
       "        vertical-align: top;\n",
       "    }\n",
       "\n",
       "    .dataframe thead th {\n",
       "        text-align: right;\n",
       "    }\n",
       "</style>\n",
       "<table border=\"1\" class=\"dataframe\">\n",
       "  <thead>\n",
       "    <tr style=\"text-align: right;\">\n",
       "      <th></th>\n",
       "      <th>claim</th>\n",
       "      <th>id</th>\n",
       "      <th>rating</th>\n",
       "      <th>original_rating</th>\n",
       "    </tr>\n",
       "  </thead>\n",
       "  <tbody>\n",
       "    <tr>\n",
       "      <th>26971</th>\n",
       "      <td>If an individual is determined \"to commit suic...</td>\n",
       "      <td>26972</td>\n",
       "      <td>1</td>\n",
       "      <td>barely-true</td>\n",
       "    </tr>\n",
       "    <tr>\n",
       "      <th>26972</th>\n",
       "      <td>Former NBA star said modern basketball players...</td>\n",
       "      <td>26973</td>\n",
       "      <td>0</td>\n",
       "      <td>false</td>\n",
       "    </tr>\n",
       "    <tr>\n",
       "      <th>26973</th>\n",
       "      <td>\"Since Debbie Halvorson has been in politics, ...</td>\n",
       "      <td>26974</td>\n",
       "      <td>1</td>\n",
       "      <td>half-true</td>\n",
       "    </tr>\n",
       "    <tr>\n",
       "      <th>26974</th>\n",
       "      <td>President Barack Obama \"had the legal authorit...</td>\n",
       "      <td>26975</td>\n",
       "      <td>2</td>\n",
       "      <td>true</td>\n",
       "    </tr>\n",
       "    <tr>\n",
       "      <th>26975</th>\n",
       "      <td>Photograph of a Congress worker protesting aga...</td>\n",
       "      <td>26976</td>\n",
       "      <td>0</td>\n",
       "      <td>false</td>\n",
       "    </tr>\n",
       "  </tbody>\n",
       "</table>\n",
       "</div>"
      ],
      "text/plain": [
       "                                                   claim     id  rating  \\\n",
       "26971  If an individual is determined \"to commit suic...  26972       1   \n",
       "26972  Former NBA star said modern basketball players...  26973       0   \n",
       "26973  \"Since Debbie Halvorson has been in politics, ...  26974       1   \n",
       "26974  President Barack Obama \"had the legal authorit...  26975       2   \n",
       "26975  Photograph of a Congress worker protesting aga...  26976       0   \n",
       "\n",
       "      original_rating  \n",
       "26971     barely-true  \n",
       "26972           false  \n",
       "26973       half-true  \n",
       "26974            true  \n",
       "26975           false  "
      ]
     },
     "execution_count": 2,
     "metadata": {},
     "output_type": "execute_result"
    }
   ],
   "source": [
    "train_df.tail()"
   ]
  },
  {
   "cell_type": "code",
   "execution_count": 3,
   "id": "5dbd10b1-e24d-446f-abf4-dd3b1125c5b1",
   "metadata": {},
   "outputs": [
    {
     "data": {
      "text/plain": [
       "<AxesSubplot:>"
      ]
     },
     "execution_count": 3,
     "metadata": {},
     "output_type": "execute_result"
    },
    {
     "data": {
      "image/png": "[encoded data removed]",
      "text/plain": [
       "<Figure size 432x288 with 1 Axes>"
      ]
     },
     "metadata": {
      "needs_background": "light"
     },
     "output_type": "display_data"
    }
   ],
   "source": [
    "train_df['rating'].value_counts().plot(kind='bar')"
   ]
  },
  {
   "cell_type": "code",
   "execution_count": 4,
   "id": "73678e60-6d57-4176-8a22-123c41e54233",
   "metadata": {},
   "outputs": [
    {
     "name": "stdout",
     "output_type": "stream",
     "text": [
      "0.9.0\n"
     ]
    }
   ],
   "source": [
    "# check version number\n",
    "import imblearn\n",
    "print(imblearn.__version__)"
   ]
  },
  {
   "cell_type": "markdown",
   "id": "773058a3-74e9-4a12-bf75-59ff76c30a26",
   "metadata": {},
   "source": [
    "NearMiss-3 selects the closest examples from the majority class for each minority class.\n",
    "\n",
    "The n_neighbors_ver3 argument determines the number of examples to select for each minority example, although the desired balancing ratio set via sampling_strategy will filter this to achieve the desired balance."
   ]
  },
  {
   "cell_type": "code",
   "execution_count": 5,
   "id": "261f91e0-e6c6-4fda-932a-a0a169d7e31b",
   "metadata": {},
   "outputs": [
    {
     "data": {
      "text/plain": [
       "(26976, 1)"
      ]
     },
     "execution_count": 5,
     "metadata": {},
     "output_type": "execute_result"
    }
   ],
   "source": [
    "X = train_df.iloc[:,1:2]\n",
    "X.shape"
   ]
  },
  {
   "cell_type": "code",
   "execution_count": 6,
   "id": "a4440bd7-0a67-4ee2-a155-5e4e821ec411",
   "metadata": {},
   "outputs": [
    {
     "data": {
      "text/plain": [
       "(26976,)"
      ]
     },
     "execution_count": 6,
     "metadata": {},
     "output_type": "execute_result"
    }
   ],
   "source": [
    "y = train_df['rating']\n",
    "y.shape"
   ]
  },
  {
   "cell_type": "code",
   "execution_count": 7,
   "id": "98897fd9-1583-49b7-b727-eba7902dab06",
   "metadata": {},
   "outputs": [],
   "source": [
    "valid_df['indx'] = valid_df.index"
   ]
  },
  {
   "cell_type": "code",
   "execution_count": 8,
   "id": "3c2bff9f-38ec-4cd6-8ac7-d899238b5d90",
   "metadata": {},
   "outputs": [
    {
     "data": {
      "text/html": [
       "<div>\n",
       "<style scoped>\n",
       "    .dataframe tbody tr th:only-of-type {\n",
       "        vertical-align: middle;\n",
       "    }\n",
       "\n",
       "    .dataframe tbody tr th {\n",
       "        vertical-align: top;\n",
       "    }\n",
       "\n",
       "    .dataframe thead th {\n",
       "        text-align: right;\n",
       "    }\n",
       "</style>\n",
       "<table border=\"1\" class=\"dataframe\">\n",
       "  <thead>\n",
       "    <tr style=\"text-align: right;\">\n",
       "      <th></th>\n",
       "      <th>claim</th>\n",
       "      <th>id</th>\n",
       "      <th>rating</th>\n",
       "      <th>original_rating</th>\n",
       "      <th>indx</th>\n",
       "    </tr>\n",
       "  </thead>\n",
       "  <tbody>\n",
       "    <tr>\n",
       "      <th>0</th>\n",
       "      <td>Video shows that \"Joe Biden participated in 'B...</td>\n",
       "      <td>26977</td>\n",
       "      <td>0</td>\n",
       "      <td>false</td>\n",
       "      <td>0</td>\n",
       "    </tr>\n",
       "    <tr>\n",
       "      <th>1</th>\n",
       "      <td>\"While Act 10 allowed (Milwaukee County) to sa...</td>\n",
       "      <td>26978</td>\n",
       "      <td>1</td>\n",
       "      <td>half-true</td>\n",
       "      <td>1</td>\n",
       "    </tr>\n",
       "    <tr>\n",
       "      <th>2</th>\n",
       "      <td>\"In Massachusetts, Biden’s vote exceeded exit ...</td>\n",
       "      <td>26979</td>\n",
       "      <td>0</td>\n",
       "      <td>false</td>\n",
       "      <td>2</td>\n",
       "    </tr>\n",
       "    <tr>\n",
       "      <th>3</th>\n",
       "      <td>Reliance supplying Jio Atta after farm bills w...</td>\n",
       "      <td>26980</td>\n",
       "      <td>0</td>\n",
       "      <td>false</td>\n",
       "      <td>3</td>\n",
       "    </tr>\n",
       "    <tr>\n",
       "      <th>4</th>\n",
       "      <td>Photo of maulvi and MP Shafiqur Rahman Virk pe...</td>\n",
       "      <td>26981</td>\n",
       "      <td>0</td>\n",
       "      <td>false</td>\n",
       "      <td>4</td>\n",
       "    </tr>\n",
       "  </tbody>\n",
       "</table>\n",
       "</div>"
      ],
      "text/plain": [
       "                                               claim     id  rating  \\\n",
       "0  Video shows that \"Joe Biden participated in 'B...  26977       0   \n",
       "1  \"While Act 10 allowed (Milwaukee County) to sa...  26978       1   \n",
       "2  \"In Massachusetts, Biden’s vote exceeded exit ...  26979       0   \n",
       "3  Reliance supplying Jio Atta after farm bills w...  26980       0   \n",
       "4  Photo of maulvi and MP Shafiqur Rahman Virk pe...  26981       0   \n",
       "\n",
       "  original_rating  indx  \n",
       "0           false     0  \n",
       "1       half-true     1  \n",
       "2           false     2  \n",
       "3           false     3  \n",
       "4           false     4  "
      ]
     },
     "execution_count": 8,
     "metadata": {},
     "output_type": "execute_result"
    }
   ],
   "source": [
    "valid_df.head()"
   ]
  },
  {
   "cell_type": "code",
   "execution_count": 9,
   "id": "6c352993-6c52-47fd-9d9a-ecd874b99e10",
   "metadata": {},
   "outputs": [
    {
     "data": {
      "text/plain": [
       "(3372, 1)"
      ]
     },
     "execution_count": 9,
     "metadata": {},
     "output_type": "execute_result"
    }
   ],
   "source": [
    "X_v = valid_df[['indx']]\n",
    "y_v = valid_df['rating']\n",
    "X_v.shape"
   ]
  },
  {
   "cell_type": "code",
   "execution_count": 10,
   "id": "c1f9c00c-3143-45ec-80f1-79fc4c63b9dc",
   "metadata": {},
   "outputs": [],
   "source": [
    "# define the undersampling method\n",
    "# undersample = NearMiss(version=3)\n",
    "\n",
    "from imblearn.over_sampling import SMOTE\n",
    "\n",
    "\n",
    "# define the undersampling method\n",
    "oversample = SMOTE()\n",
    "# transform the dataset\n",
    "X_over, y_over = oversample.fit_resample(X, y.ravel())\n",
    "Xv_over, yv_over = oversample.fit_resample(X_v, y_v.ravel())\n",
    "\n",
    "from imblearn.under_sampling import NearMiss\n",
    "\n",
    "\n",
    "# define the undersampling method\n",
    "undersample = NearMiss(n_neighbors_ver3=3)\n",
    "# transform the dataset\n",
    "X_near, y_near = undersample.fit_resample(X, y.ravel())\n",
    "Xv_near, yv_near = undersample.fit_resample(X_v, y_v.ravel())\n"
   ]
  },
  {
   "cell_type": "code",
   "execution_count": 11,
   "id": "57259e9a-46ca-4e9d-994b-ca8c82d4ad51",
   "metadata": {},
   "outputs": [
    {
     "name": "stdout",
     "output_type": "stream",
     "text": [
      "After Oversampling, counts of label '1': 12105\n",
      "After Oversampling, counts of label '0': 12105\n",
      "After Oversampling, counts of label '2': 12105\n",
      "After Undersampling, counts of label '1': 2894\n",
      "After Undersampling, counts of label '0': 2894\n",
      "After Undersampling, counts of label '2': 2894\n"
     ]
    }
   ],
   "source": [
    "print(\"After Oversampling, counts of label '1': {}\".format(sum(y_over == 1))) \n",
    "print(\"After Oversampling, counts of label '0': {}\".format(sum(y_over == 0))) \n",
    "print(\"After Oversampling, counts of label '2': {}\".format(sum(y_over == 2))) \n",
    "\n",
    "print(\"After Undersampling, counts of label '1': {}\".format(sum(y_near == 1))) \n",
    "print(\"After Undersampling, counts of label '0': {}\".format(sum(y_near == 0))) \n",
    "print(\"After Undersampling, counts of label '2': {}\".format(sum(y_near == 2))) "
   ]
  },
  {
   "cell_type": "code",
   "execution_count": 12,
   "id": "3963d5cd-c6c7-4d0d-9ca2-581382e2a12c",
   "metadata": {},
   "outputs": [],
   "source": [
    "over_idx = X_over['id'].apply(lambda x: x-1).tolist()\n",
    "train_over_df = train_df.loc[over_idx]\n",
    "\n",
    "over_v_idx = Xv_over['indx'].tolist()\n",
    "valid_over_df = valid_df.loc[over_v_idx]"
   ]
  },
  {
   "cell_type": "code",
   "execution_count": 13,
   "id": "06840d78-68dd-41e5-abc4-de28edebf8fc",
   "metadata": {},
   "outputs": [],
   "source": [
    "near_idx = X_near['id'].apply(lambda x: x-1).tolist()\n",
    "train_near_df = train_df.loc[near_idx]\n",
    "\n",
    "near_v_idx = Xv_near['indx'].tolist()\n",
    "valid_near_df = valid_df.loc[near_v_idx]"
   ]
  },
  {
   "cell_type": "code",
   "execution_count": null,
   "id": "3f6ec76c-b1ab-4ee6-b2b6-374646705aa5",
   "metadata": {},
   "outputs": [],
   "source": []
  },
  {
   "cell_type": "code",
   "execution_count": 14,
   "id": "2aa71e48-c139-44e3-978b-36c7ef059da0",
   "metadata": {},
   "outputs": [
    {
     "data": {
      "text/plain": [
       "array([0, 1, 2])"
      ]
     },
     "execution_count": 14,
     "metadata": {},
     "output_type": "execute_result"
    }
   ],
   "source": [
    "train_near_df['rating'].unique()"
   ]
  },
  {
   "cell_type": "code",
   "execution_count": 15,
   "id": "a256820b-1ebf-4fe5-8596-ef730c3357e3",
   "metadata": {},
   "outputs": [
    {
     "data": {
      "text/html": [
       "<div>\n",
       "<style scoped>\n",
       "    .dataframe tbody tr th:only-of-type {\n",
       "        vertical-align: middle;\n",
       "    }\n",
       "\n",
       "    .dataframe tbody tr th {\n",
       "        vertical-align: top;\n",
       "    }\n",
       "\n",
       "    .dataframe thead th {\n",
       "        text-align: right;\n",
       "    }\n",
       "</style>\n",
       "<table border=\"1\" class=\"dataframe\">\n",
       "  <thead>\n",
       "    <tr style=\"text-align: right;\">\n",
       "      <th></th>\n",
       "      <th>claim</th>\n",
       "      <th>id</th>\n",
       "      <th>rating</th>\n",
       "      <th>original_rating</th>\n",
       "    </tr>\n",
       "  </thead>\n",
       "  <tbody>\n",
       "    <tr>\n",
       "      <th>40</th>\n",
       "      <td>Indians in Spain celebrating Ram Mandir constr...</td>\n",
       "      <td>41</td>\n",
       "      <td>0</td>\n",
       "      <td>false</td>\n",
       "    </tr>\n",
       "    <tr>\n",
       "      <th>419</th>\n",
       "      <td>Says \"Nancy Pelosi came out in favor of MS-13.\"</td>\n",
       "      <td>420</td>\n",
       "      <td>0</td>\n",
       "      <td>false</td>\n",
       "    </tr>\n",
       "    <tr>\n",
       "      <th>874</th>\n",
       "      <td>Muslims punished for breaking lockdown in India</td>\n",
       "      <td>875</td>\n",
       "      <td>0</td>\n",
       "      <td>false</td>\n",
       "    </tr>\n",
       "    <tr>\n",
       "      <th>1629</th>\n",
       "      <td>Photo of Narendra Modi's mother in an auto-ric...</td>\n",
       "      <td>1630</td>\n",
       "      <td>0</td>\n",
       "      <td>false</td>\n",
       "    </tr>\n",
       "    <tr>\n",
       "      <th>1705</th>\n",
       "      <td>President Donald Trump’s budget \"threatened to...</td>\n",
       "      <td>1706</td>\n",
       "      <td>0</td>\n",
       "      <td>false</td>\n",
       "    </tr>\n",
       "  </tbody>\n",
       "</table>\n",
       "</div>"
      ],
      "text/plain": [
       "                                                  claim    id  rating  \\\n",
       "40    Indians in Spain celebrating Ram Mandir constr...    41       0   \n",
       "419     Says \"Nancy Pelosi came out in favor of MS-13.\"   420       0   \n",
       "874     Muslims punished for breaking lockdown in India   875       0   \n",
       "1629  Photo of Narendra Modi's mother in an auto-ric...  1630       0   \n",
       "1705  President Donald Trump’s budget \"threatened to...  1706       0   \n",
       "\n",
       "     original_rating  \n",
       "40             false  \n",
       "419            false  \n",
       "874            false  \n",
       "1629           false  \n",
       "1705           false  "
      ]
     },
     "execution_count": 15,
     "metadata": {},
     "output_type": "execute_result"
    }
   ],
   "source": [
    "train_near_df[train_near_df['rating'] == 0][:5]"
   ]
  },
  {
   "cell_type": "code",
   "execution_count": 16,
   "id": "d5d88015-1b04-4a92-b6eb-e415df7bfd43",
   "metadata": {},
   "outputs": [
    {
     "data": {
      "text/html": [
       "<div>\n",
       "<style scoped>\n",
       "    .dataframe tbody tr th:only-of-type {\n",
       "        vertical-align: middle;\n",
       "    }\n",
       "\n",
       "    .dataframe tbody tr th {\n",
       "        vertical-align: top;\n",
       "    }\n",
       "\n",
       "    .dataframe thead th {\n",
       "        text-align: right;\n",
       "    }\n",
       "</style>\n",
       "<table border=\"1\" class=\"dataframe\">\n",
       "  <thead>\n",
       "    <tr style=\"text-align: right;\">\n",
       "      <th></th>\n",
       "      <th>claim</th>\n",
       "      <th>id</th>\n",
       "      <th>rating</th>\n",
       "      <th>original_rating</th>\n",
       "    </tr>\n",
       "  </thead>\n",
       "  <tbody>\n",
       "    <tr>\n",
       "      <th>1008</th>\n",
       "      <td>The number of people who \"believe in socialism...</td>\n",
       "      <td>1009</td>\n",
       "      <td>1</td>\n",
       "      <td>half-true</td>\n",
       "    </tr>\n",
       "    <tr>\n",
       "      <th>6412</th>\n",
       "      <td>An image shows animals burning in the Australi...</td>\n",
       "      <td>6413</td>\n",
       "      <td>1</td>\n",
       "      <td>barely-true</td>\n",
       "    </tr>\n",
       "    <tr>\n",
       "      <th>7457</th>\n",
       "      <td>Donald Trump would \"engage in a risky scheme t...</td>\n",
       "      <td>7458</td>\n",
       "      <td>1</td>\n",
       "      <td>barely-true</td>\n",
       "    </tr>\n",
       "    <tr>\n",
       "      <th>7635</th>\n",
       "      <td>A photograph shows a nude man walking the runw...</td>\n",
       "      <td>7636</td>\n",
       "      <td>1</td>\n",
       "      <td>miscaptioned</td>\n",
       "    </tr>\n",
       "    <tr>\n",
       "      <th>8675</th>\n",
       "      <td>Anyone bringing supplies to DAPL protesters at...</td>\n",
       "      <td>8676</td>\n",
       "      <td>1</td>\n",
       "      <td>mostly true</td>\n",
       "    </tr>\n",
       "  </tbody>\n",
       "</table>\n",
       "</div>"
      ],
      "text/plain": [
       "                                                  claim    id  rating  \\\n",
       "1008  The number of people who \"believe in socialism...  1009       1   \n",
       "6412  An image shows animals burning in the Australi...  6413       1   \n",
       "7457  Donald Trump would \"engage in a risky scheme t...  7458       1   \n",
       "7635  A photograph shows a nude man walking the runw...  7636       1   \n",
       "8675  Anyone bringing supplies to DAPL protesters at...  8676       1   \n",
       "\n",
       "     original_rating  \n",
       "1008       half-true  \n",
       "6412     barely-true  \n",
       "7457     barely-true  \n",
       "7635    miscaptioned  \n",
       "8675     mostly true  "
      ]
     },
     "execution_count": 16,
     "metadata": {},
     "output_type": "execute_result"
    }
   ],
   "source": [
    "train_near_df[train_near_df['rating'] == 1][:5]"
   ]
  },
  {
   "cell_type": "code",
   "execution_count": 17,
   "id": "acb954e9-8902-46de-8dde-6f3da6b5787e",
   "metadata": {},
   "outputs": [
    {
     "data": {
      "text/html": [
       "<div>\n",
       "<style scoped>\n",
       "    .dataframe tbody tr th:only-of-type {\n",
       "        vertical-align: middle;\n",
       "    }\n",
       "\n",
       "    .dataframe tbody tr th {\n",
       "        vertical-align: top;\n",
       "    }\n",
       "\n",
       "    .dataframe thead th {\n",
       "        text-align: right;\n",
       "    }\n",
       "</style>\n",
       "<table border=\"1\" class=\"dataframe\">\n",
       "  <thead>\n",
       "    <tr style=\"text-align: right;\">\n",
       "      <th></th>\n",
       "      <th>claim</th>\n",
       "      <th>id</th>\n",
       "      <th>rating</th>\n",
       "      <th>original_rating</th>\n",
       "    </tr>\n",
       "  </thead>\n",
       "  <tbody>\n",
       "    <tr>\n",
       "      <th>13</th>\n",
       "      <td>Says that U.S. Rep. Allen West is \"a constitue...</td>\n",
       "      <td>14</td>\n",
       "      <td>2</td>\n",
       "      <td>true</td>\n",
       "    </tr>\n",
       "    <tr>\n",
       "      <th>14</th>\n",
       "      <td>\"The average margin of victory in the House of...</td>\n",
       "      <td>15</td>\n",
       "      <td>2</td>\n",
       "      <td>true</td>\n",
       "    </tr>\n",
       "    <tr>\n",
       "      <th>25</th>\n",
       "      <td>\"Not a single Democrat opposed Neil Gorsuch's ...</td>\n",
       "      <td>26</td>\n",
       "      <td>2</td>\n",
       "      <td>true</td>\n",
       "    </tr>\n",
       "    <tr>\n",
       "      <th>28</th>\n",
       "      <td>Ted Livingston, the CEO of Kik Interactive, an...</td>\n",
       "      <td>29</td>\n",
       "      <td>2</td>\n",
       "      <td>true</td>\n",
       "    </tr>\n",
       "    <tr>\n",
       "      <th>31</th>\n",
       "      <td>There are cities and counties in Georgia that ...</td>\n",
       "      <td>32</td>\n",
       "      <td>2</td>\n",
       "      <td>true</td>\n",
       "    </tr>\n",
       "  </tbody>\n",
       "</table>\n",
       "</div>"
      ],
      "text/plain": [
       "                                                claim  id  rating  \\\n",
       "13  Says that U.S. Rep. Allen West is \"a constitue...  14       2   \n",
       "14  \"The average margin of victory in the House of...  15       2   \n",
       "25  \"Not a single Democrat opposed Neil Gorsuch's ...  26       2   \n",
       "28  Ted Livingston, the CEO of Kik Interactive, an...  29       2   \n",
       "31  There are cities and counties in Georgia that ...  32       2   \n",
       "\n",
       "   original_rating  \n",
       "13            true  \n",
       "14            true  \n",
       "25            true  \n",
       "28            true  \n",
       "31            true  "
      ]
     },
     "execution_count": 17,
     "metadata": {},
     "output_type": "execute_result"
    }
   ],
   "source": [
    "train_near_df[train_near_df['rating'] == 2][:5]"
   ]
  },
  {
   "cell_type": "code",
   "execution_count": 18,
   "id": "d130e817-a5df-4129-9e2e-1fac6a32f739",
   "metadata": {},
   "outputs": [],
   "source": [
    "train_df['new_rating'] = np.where(train_df['rating'] == 0,'false',np.where(train_df['rating'] == 1,'misleading',np.where(train_df['rating'] == 2,'true','')))\n",
    "train_df['new_rating'].unique()\n",
    "\n",
    "# test_df['new_rating'] = np.where(test_df['rating'] == 0,'false',np.where(test_df['rating'] == 1,'misleading',np.where(test_df['rating'] == 2,'true','')))\n",
    "valid_df['new_rating'] = np.where(valid_df['rating'] == 0,'false',np.where(valid_df['rating'] == 1,'misleading',np.where(valid_df['rating'] == 2,'true','')))\n",
    "\n"
   ]
  },
  {
   "cell_type": "code",
   "execution_count": 19,
   "id": "52629d9c-311d-42e7-b7b9-1a8eaaaee74f",
   "metadata": {},
   "outputs": [],
   "source": [
    "train_over_df['new_rating'] = np.where(train_over_df['rating'] == 0,'false',np.where(train_over_df['rating'] == 1,'misleading',np.where(train_over_df['rating'] == 2,'true','')))\n",
    "train_over_df['new_rating'].unique()\n",
    "\n",
    "test_df['new_rating'] = np.where(test_df['rating'] == 0,'false',np.where(test_df['rating'] == 1,'misleading',np.where(test_df['rating'] == 2,'true','')))\n",
    "valid_over_df['new_rating'] = np.where(valid_over_df['rating'] == 0,'false',np.where(valid_over_df['rating'] == 1,'misleading',np.where(valid_over_df['rating'] == 2,'true','')))\n",
    "\n"
   ]
  },
  {
   "cell_type": "code",
   "execution_count": 20,
   "id": "d9dbe064-9308-4db1-9951-656bfb4111f8",
   "metadata": {},
   "outputs": [],
   "source": [
    "train_near_df['new_rating'] = np.where(train_near_df['rating'] == 0,'false',np.where(train_near_df['rating'] == 1,'misleading',np.where(train_near_df['rating'] == 2,'true','')))\n",
    "train_near_df['new_rating'].unique()\n",
    "\n",
    "# test_df['new_rating'] = np.where(test_df['rating'] == 0,'false',np.where(test_df['rating'] == 1,'misleading',np.where(test_df['rating'] == 2,'true','')))\n",
    "valid_near_df['new_rating'] = np.where(valid_near_df['rating'] == 0,'false',np.where(valid_near_df['rating'] == 1,'misleading',np.where(valid_near_df['rating'] == 2,'true','')))\n",
    "\n"
   ]
  },
  {
   "cell_type": "code",
   "execution_count": 21,
   "id": "fec15046-6781-454b-a4e8-84882152f192",
   "metadata": {},
   "outputs": [],
   "source": [
    "\n",
    "dummy_train_y = np.array(pd.get_dummies(train_df['new_rating']))\n",
    "dummy_train_over_y = np.array(pd.get_dummies(train_over_df['new_rating']))\n",
    "dummy_train_near_y = np.array(pd.get_dummies(train_near_df['new_rating']))\n",
    "\n",
    "\n",
    "dummy_test_y = np.array(pd.get_dummies(test_df['new_rating']))\n",
    "\n",
    "dummy_valid_y = np.array(pd.get_dummies(valid_df['new_rating']))\n",
    "dummy_valid_near_y = np.array(pd.get_dummies(valid_near_df['new_rating']))\n",
    "dummy_valid_over_y = np.array(pd.get_dummies(valid_over_df['new_rating']))\n"
   ]
  },
  {
   "cell_type": "code",
   "execution_count": 25,
   "id": "0ccb1ff4-c4dc-4e89-bc75-5ea705dff01a",
   "metadata": {},
   "outputs": [
    {
     "data": {
      "text/html": [
       "<div>\n",
       "<style scoped>\n",
       "    .dataframe tbody tr th:only-of-type {\n",
       "        vertical-align: middle;\n",
       "    }\n",
       "\n",
       "    .dataframe tbody tr th {\n",
       "        vertical-align: top;\n",
       "    }\n",
       "\n",
       "    .dataframe thead th {\n",
       "        text-align: right;\n",
       "    }\n",
       "</style>\n",
       "<table border=\"1\" class=\"dataframe\">\n",
       "  <thead>\n",
       "    <tr style=\"text-align: right;\">\n",
       "      <th></th>\n",
       "      <th>claim</th>\n",
       "      <th>id</th>\n",
       "      <th>rating</th>\n",
       "      <th>original_rating</th>\n",
       "      <th>new_rating</th>\n",
       "    </tr>\n",
       "  </thead>\n",
       "  <tbody>\n",
       "    <tr>\n",
       "      <th>0</th>\n",
       "      <td>OpIndia claimed Greta Thunberg's real name is ...</td>\n",
       "      <td>1</td>\n",
       "      <td>0</td>\n",
       "      <td>false</td>\n",
       "      <td>false</td>\n",
       "    </tr>\n",
       "    <tr>\n",
       "      <th>1</th>\n",
       "      <td>“38,000 prisoners were released from federal p...</td>\n",
       "      <td>2</td>\n",
       "      <td>1</td>\n",
       "      <td>misleading</td>\n",
       "      <td>misleading</td>\n",
       "    </tr>\n",
       "    <tr>\n",
       "      <th>2</th>\n",
       "      <td>Says Wisconsin ‘could compel’ Foxconn to insta...</td>\n",
       "      <td>3</td>\n",
       "      <td>1</td>\n",
       "      <td>barely-true</td>\n",
       "      <td>misleading</td>\n",
       "    </tr>\n",
       "    <tr>\n",
       "      <th>3</th>\n",
       "      <td>A 4-year-old boy was accused of hacking the FB...</td>\n",
       "      <td>4</td>\n",
       "      <td>0</td>\n",
       "      <td>false</td>\n",
       "      <td>false</td>\n",
       "    </tr>\n",
       "    <tr>\n",
       "      <th>4</th>\n",
       "      <td>Whistleblower accusing Philippine VP of fraud ...</td>\n",
       "      <td>5</td>\n",
       "      <td>1</td>\n",
       "      <td>misleading</td>\n",
       "      <td>misleading</td>\n",
       "    </tr>\n",
       "  </tbody>\n",
       "</table>\n",
       "</div>"
      ],
      "text/plain": [
       "                                               claim  id  rating  \\\n",
       "0  OpIndia claimed Greta Thunberg's real name is ...   1       0   \n",
       "1  “38,000 prisoners were released from federal p...   2       1   \n",
       "2  Says Wisconsin ‘could compel’ Foxconn to insta...   3       1   \n",
       "3  A 4-year-old boy was accused of hacking the FB...   4       0   \n",
       "4  Whistleblower accusing Philippine VP of fraud ...   5       1   \n",
       "\n",
       "  original_rating  new_rating  \n",
       "0           false       false  \n",
       "1      misleading  misleading  \n",
       "2     barely-true  misleading  \n",
       "3           false       false  \n",
       "4      misleading  misleading  "
      ]
     },
     "execution_count": 25,
     "metadata": {},
     "output_type": "execute_result"
    }
   ],
   "source": [
    "train_df[:5]"
   ]
  },
  {
   "cell_type": "code",
   "execution_count": 31,
   "id": "242edf61-c04d-455d-b10f-b96d8d2df030",
   "metadata": {},
   "outputs": [],
   "source": [
    "from transformers import BertTokenizer, TFBertModel\n",
    "\n",
    "from transformers import logging\n",
    "logging.set_verbosity_error()"
   ]
  },
  {
   "cell_type": "code",
   "execution_count": 34,
   "id": "e10b05d8-69a9-407e-9b90-2d13d9d65618",
   "metadata": {},
   "outputs": [
    {
     "data": {
      "text/plain": [
       "[\"OpIndia claimed Greta Thunberg's real name is Ghazala bhat\",\n",
       " '“38,000 prisoners were released from federal prison” during the Obama administration.',\n",
       " 'Says\\xa0Wisconsin ‘could compel’ Foxconn to install solar panels that would power 33,000 homes.',\n",
       " \"A 4-year-old boy was accused of hacking the FBI's databases.\"]"
      ]
     },
     "execution_count": 34,
     "metadata": {},
     "output_type": "execute_result"
    }
   ],
   "source": [
    "train_df['claim'].values.tolist()[:4]"
   ]
  },
  {
   "cell_type": "code",
   "execution_count": 35,
   "id": "a3b62710-8ab2-4438-8ff8-3bb504c18d35",
   "metadata": {},
   "outputs": [
    {
     "data": {
      "text/plain": [
       "array([0, 1, 1, 0])"
      ]
     },
     "execution_count": 35,
     "metadata": {},
     "output_type": "execute_result"
    }
   ],
   "source": [
    "np.array(train_df['rating'].values.tolist())[:4]"
   ]
  },
  {
   "cell_type": "code",
   "execution_count": 36,
   "id": "1dd5d1e5-24f0-43b8-bcfd-56406f6c92d3",
   "metadata": {},
   "outputs": [],
   "source": [
    "train_examples = train_df['claim'].values.tolist()\n",
    "train_examples = tf.convert_to_tensor(train_examples)\n",
    "train_labels = np.array(train_df['rating'].values.tolist())\n",
    "\n",
    "train_over_examples = train_over_df['claim'].values.tolist()\n",
    "train_over_examples = tf.convert_to_tensor(train_over_examples)\n",
    "train_over_labels = np.array(train_over_df['rating'].values.tolist())\n",
    "\n",
    "train_near_examples = train_near_df['claim'].values.tolist()\n",
    "train_near_examples = tf.convert_to_tensor(train_near_examples)\n",
    "train_near_labels = np.array(train_near_df['rating'].values.tolist())\n",
    "\n",
    "\n",
    "test_examples = test_df['claim'].values.tolist()\n",
    "test_examples = tf.convert_to_tensor(test_examples)\n",
    "test_labels = np.array(test_df['rating'].values.tolist())\n",
    "\n",
    "\n",
    "\n",
    "\n",
    "val_examples = valid_df['claim'].values.tolist()\n",
    "val_examples = tf.convert_to_tensor(val_examples)\n",
    "val_labels = np.array(valid_df['rating'].values.tolist())\n",
    "\n",
    "val_over_examples = valid_over_df['claim'].values.tolist()\n",
    "val_over_examples = tf.convert_to_tensor(val_over_examples)\n",
    "val_over_labels = np.array(valid_over_df['rating'].values.tolist())\n",
    "\n",
    "val_near_examples = valid_near_df['claim'].values.tolist()\n",
    "val_near_examples = tf.convert_to_tensor(val_near_examples)\n",
    "val_near_labels = np.array(valid_near_df['rating'].values.tolist())\n",
    "\n",
    "# print('Train data contains {} with labels of {}'.format(train_examples.shape[0],train_labels['rating'].unique()))"
   ]
  },
  {
   "cell_type": "code",
   "execution_count": 37,
   "id": "24d331d1-f552-4643-b822-e8090dd3bc38",
   "metadata": {},
   "outputs": [
    {
     "data": {
      "text/plain": [
       "<tf.Tensor: shape=(5,), dtype=string, numpy=\n",
       "array([b\"OpIndia claimed Greta Thunberg's real name is Ghazala bhat\",\n",
       "       b'\\xe2\\x80\\x9c38,000 prisoners were released from federal prison\\xe2\\x80\\x9d during the Obama administration.',\n",
       "       b'Says\\xc2\\xa0Wisconsin \\xe2\\x80\\x98could compel\\xe2\\x80\\x99 Foxconn to install solar panels that would power 33,000 homes.',\n",
       "       b\"A 4-year-old boy was accused of hacking the FBI's databases.\",\n",
       "       b'Whistleblower accusing Philippine VP of fraud surfaces in December 2020'],\n",
       "      dtype=object)>"
      ]
     },
     "execution_count": 37,
     "metadata": {},
     "output_type": "execute_result"
    }
   ],
   "source": [
    "train_examples[:5]"
   ]
  },
  {
   "cell_type": "code",
   "execution_count": null,
   "id": "10a8d3ce-bbf9-4a3d-90a0-be0e50907fd6",
   "metadata": {},
   "outputs": [],
   "source": []
  },
  {
   "cell_type": "code",
   "execution_count": 38,
   "id": "0fe15356-a935-44c3-bc9f-3bf089cf060c",
   "metadata": {},
   "outputs": [],
   "source": [
    "# BERT Tokenization of training and test data\n",
    "\n",
    "\n",
    "\n",
    "MAX_SEQUENCE_LENGTH = 128                 # set max_length of the input sequence\n",
    "\n",
    "all_train_examples = [x.decode('utf-8') for x in train_examples.numpy()]\n",
    "all_test_examples = [x.decode('utf-8') for x in val_examples.numpy()]\n",
    "\n",
    "x_train = bert_tokenizer(all_train_examples,\n",
    "              max_length=MAX_SEQUENCE_LENGTH,\n",
    "              truncation=True,\n",
    "              padding='max_length',\n",
    "              return_tensors='tf')\n",
    "y_train = train_labels\n",
    "\n",
    "x_test = bert_tokenizer(all_test_examples,\n",
    "              max_length=MAX_SEQUENCE_LENGTH,\n",
    "              truncation=True,\n",
    "              padding='max_length',\n",
    "              return_tensors='tf')\n",
    "y_test = val_labels"
   ]
  },
  {
   "cell_type": "code",
   "execution_count": 49,
   "id": "0462d591-7c7b-42a9-9444-00d1c3cbdb8f",
   "metadata": {},
   "outputs": [],
   "source": [
    "def create_bert_classification_model(bert_model,\n",
    "                                     num_train_layers=0,\n",
    "                                     hidden_size = 200,\n",
    "                                     dropout=0.3,\n",
    "                                     learning_rate=0.00005):\n",
    "    \"\"\"\n",
    "    Build a simple classification model with BERT. Use the Pooler Output for classification purposes\n",
    "    \"\"\"\n",
    "    if num_train_layers == 0:\n",
    "        # Freeze all layers of pre-trained BERT model\n",
    "        bert_model.trainable = False\n",
    "\n",
    "    elif num_train_layers == 12:\n",
    "        # Train all layers of the BERT model\n",
    "        bert_model.trainable = True\n",
    "\n",
    "    else:\n",
    "        # Restrict training to the num_train_layers outer transformer layers\n",
    "        retrain_layers = []\n",
    "\n",
    "        for retrain_layer_number in range(num_train_layers):\n",
    "\n",
    "            layer_code = '_' + str(11 - retrain_layer_number)\n",
    "            retrain_layers.append(layer_code)\n",
    "\n",
    "\n",
    "        print('retrain layers: ', retrain_layers)\n",
    "\n",
    "        for w in bert_model.weights:\n",
    "            if not any([x in w.name for x in retrain_layers]):\n",
    "                #print('freezing: ', w)\n",
    "                w._trainable = False\n",
    "\n",
    "    input_ids = tf.keras.layers.Input(shape=(MAX_SEQUENCE_LENGTH,), dtype=tf.int64, name='input_ids_layer')\n",
    "    token_type_ids = tf.keras.layers.Input(shape=(MAX_SEQUENCE_LENGTH,), dtype=tf.int64, name='token_type_ids_layer')\n",
    "    attention_mask = tf.keras.layers.Input(shape=(MAX_SEQUENCE_LENGTH,), dtype=tf.int64, name='attention_mask_layer')\n",
    "\n",
    "    bert_inputs = {'input_ids': input_ids,\n",
    "                   'token_type_ids': token_type_ids,\n",
    "                   'attention_mask': attention_mask}\n",
    "\n",
    "    bert_out = bert_model(bert_inputs)\n",
    "\n",
    "    pooler_token = bert_out[1]\n",
    "    #cls_token = bert_out[0][:, 0, :]\n",
    "\n",
    "    hidden = tf.keras.layers.Dense(hidden_size, activation='relu', name='hidden_layer')(pooler_token)\n",
    "\n",
    "\n",
    "    hidden = tf.keras.layers.Dropout(dropout)(hidden)\n",
    "\n",
    "\n",
    "    classification = tf.keras.layers.Dense(3, activation='softmax',name='classification_layer')(hidden)\n",
    "\n",
    "    classification_model = tf.keras.Model(inputs=[input_ids, token_type_ids, attention_mask], outputs=[classification])\n",
    "\n",
    "    classification_model.compile(optimizer=tf.keras.optimizers.Adam(learning_rate=learning_rate),\n",
    "                                 loss=tf.keras.losses.categorical_crossentropy,\n",
    "                                 metrics=['accuracy'])\n",
    "\n",
    "    return classification_model"
   ]
  },
  {
   "cell_type": "code",
   "execution_count": 54,
   "id": "066bf49a-9c06-4e5f-aed0-485367437aed",
   "metadata": {},
   "outputs": [],
   "source": [
    "checkpoint = 'bert-base-cased'\n",
    "# bert_tokenizer = BertTokenizer.from_pretrained(checkpoint)\n",
    "# bert_model = TFBertModel.from_pretrained(checkpoint)\n",
    "\n",
    "bert_model = TFBertModel.from_pretrained(checkpoint)\n",
    "bert_classification_model = create_bert_classification_model(bert_model, num_train_layers=0)"
   ]
  },
  {
   "cell_type": "code",
   "execution_count": 55,
   "id": "02b7f983-eeda-4985-bb71-b25866d83556",
   "metadata": {},
   "outputs": [
    {
     "name": "stdout",
     "output_type": "stream",
     "text": [
      "Model: \"model_5\"\n",
      "__________________________________________________________________________________________________\n",
      " Layer (type)                Output Shape                 Param #   Connected to                  \n",
      "==================================================================================================\n",
      " attention_mask_layer (Inpu  [(None, 128)]                0         []                            \n",
      " tLayer)                                                                                          \n",
      "                                                                                                  \n",
      " input_ids_layer (InputLaye  [(None, 128)]                0         []                            \n",
      " r)                                                                                               \n",
      "                                                                                                  \n",
      " token_type_ids_layer (Inpu  [(None, 128)]                0         []                            \n",
      " tLayer)                                                                                          \n",
      "                                                                                                  \n",
      " tf_bert_model_7 (TFBertMod  TFBaseModelOutputWithPooli   1083102   ['attention_mask_layer[0][0]',\n",
      " el)                         ngAndCrossAttentions(last_   72         'input_ids_layer[0][0]',     \n",
      "                             hidden_state=(None, 128, 7              'token_type_ids_layer[0][0]']\n",
      "                             68),                                                                 \n",
      "                              pooler_output=(None, 768)                                           \n",
      "                             , past_key_values=None, hi                                           \n",
      "                             dden_states=None, attentio                                           \n",
      "                             ns=None, cross_attentions=                                           \n",
      "                             None)                                                                \n",
      "                                                                                                  \n",
      " hidden_layer (Dense)        (None, 200)                  153800    ['tf_bert_model_7[0][1]']     \n",
      "                                                                                                  \n",
      " dropout_301 (Dropout)       (None, 200)                  0         ['hidden_layer[0][0]']        \n",
      "                                                                                                  \n",
      " classification_layer (Dens  (None, 3)                    603       ['dropout_301[0][0]']         \n",
      " e)                                                                                               \n",
      "                                                                                                  \n",
      "==================================================================================================\n",
      "Total params: 108464675 (413.76 MB)\n",
      "Trainable params: 154403 (603.14 KB)\n",
      "Non-trainable params: 108310272 (413.17 MB)\n",
      "__________________________________________________________________________________________________\n"
     ]
    }
   ],
   "source": [
    "#confirm all layers are frozen\n",
    "bert_classification_model.summary()"
   ]
  },
  {
   "cell_type": "code",
   "execution_count": 56,
   "id": "54eab3ea-1292-47ff-b9ad-a3329ccd2ba7",
   "metadata": {},
   "outputs": [
    {
     "name": "stdout",
     "output_type": "stream",
     "text": [
      "Epoch 1/2\n",
      "843/843 [==============================] - 4051s 5s/step - loss: 0.9522 - accuracy: 0.5330 - val_loss: 0.9011 - val_accuracy: 0.5910\n",
      "Epoch 2/2\n",
      "843/843 [==============================] - 4260s 5s/step - loss: 0.9028 - accuracy: 0.5765 - val_loss: 0.8964 - val_accuracy: 0.5887\n"
     ]
    }
   ],
   "source": [
    "bert_classification_model_history = bert_classification_model.fit(\n",
    "    [x_train.input_ids, x_train.token_type_ids, x_train.attention_mask],\n",
    "    dummy_train_y,\n",
    "    validation_data=([x_test.input_ids, x_test.token_type_ids, x_test.attention_mask], dummy_valid_y),\n",
    "    batch_size=32,\n",
    "    epochs=2\n",
    ")"
   ]
  },
  {
   "cell_type": "code",
   "execution_count": 99,
   "id": "bc9b26b3-774b-49fc-834b-946896e5a7d6",
   "metadata": {},
   "outputs": [
    {
     "name": "stdout",
     "output_type": "stream",
     "text": [
      "843/843 [==============================] - 2s 2ms/step - loss: 0.8999 - accuracy: 0.5615\n",
      "accuracy: 56.15%\n",
      "53/53 [==============================] - 0s 3ms/step\n",
      "              precision    recall  f1-score   support\n",
      "\n",
      "           0       0.64      0.53      0.58      1516\n",
      "           1       0.56      0.47      0.51      1496\n",
      "           2       0.19      0.45      0.27       360\n",
      "\n",
      "    accuracy                           0.50      3372\n",
      "   macro avg       0.46      0.49      0.45      3372\n",
      "weighted avg       0.56      0.50      0.52      3372\n",
      "\n"
     ]
    }
   ],
   "source": [
    "# bert_score = bert_classification_model.evaluate(train_input,dummy_train_y)\n",
    "# print(\"%s: %.2f%%\" % (bert_classification_model.metrics_names[1], bert_score[1]*100))\n",
    "\n",
    "# y_pred = bert_classification_model.predict(test_input, batch_size=64, verbose=1)\n",
    "# y_pred_bool = np.argmax(y_pred, axis=1)\n",
    "\n",
    "# print(classification_report(t_test_labels, y_pred_bool))"
   ]
  },
  {
   "cell_type": "code",
   "execution_count": null,
   "id": "620ebe1e-a266-44f1-a5c5-5b217a64e529",
   "metadata": {},
   "outputs": [],
   "source": []
  },
  {
   "cell_type": "code",
   "execution_count": null,
   "id": "b4f82188-b55c-4f36-8a76-94823573a09c",
   "metadata": {},
   "outputs": [],
   "source": []
  },
  {
   "cell_type": "code",
   "execution_count": null,
   "id": "4f8bf5d0-843a-4add-8c4b-e962d849bcd9",
   "metadata": {},
   "outputs": [],
   "source": []
  },
  {
   "cell_type": "code",
   "execution_count": null,
   "id": "5bbe78b1-f692-4ba1-937d-a5e2e54ec657",
   "metadata": {},
   "outputs": [],
   "source": []
  },
  {
   "cell_type": "code",
   "execution_count": null,
   "id": "f5240a44-24b1-4ccb-87aa-ef5bf3b4e4a2",
   "metadata": {},
   "outputs": [],
   "source": []
  }
 ],
 "metadata": {
  "kernelspec": {
   "display_name": "Python 3 (ipykernel)",
   "language": "python",
   "name": "python3"
  },
  "language_info": {
   "codemirror_mode": {
    "name": "ipython",
    "version": 3
   },
   "file_extension": ".py",
   "mimetype": "text/x-python",
   "name": "python",
   "nbconvert_exporter": "python",
   "pygments_lexer": "ipython3",
   "version": "3.9.7"
  }
 },
 "nbformat": 4,
 "nbformat_minor": 5
}
