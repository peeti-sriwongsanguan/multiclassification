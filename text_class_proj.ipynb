{
 "cells": [
  {
   "cell_type": "code",
   "execution_count": 1,
   "id": "c0f5c760-48d4-49e2-ae4b-f9777c19a55c",
   "metadata": {},
   "outputs": [
    {
     "name": "stderr",
     "output_type": "stream",
     "text": [
      "2023-10-22 00:01:27.806572: I tensorflow/core/platform/cpu_feature_guard.cc:182] This TensorFlow binary is optimized to use available CPU instructions in performance-critical operations.\n",
      "To enable the following instructions: AVX2 AVX512F AVX512_VNNI FMA, in other operations, rebuild TensorFlow with the appropriate compiler flags.\n"
     ]
    }
   ],
   "source": [
    "from watclaimdata import test_df,train_df,valid_df\n",
    "\n",
    "import numpy as np\n",
    "import tensorflow as tf\n",
    "from tensorflow import keras\n",
    "\n",
    "from tensorflow.keras.layers import Embedding, Input, Dense, Lambda\n",
    "from tensorflow.keras.models import Model\n",
    "import tensorflow.keras.backend as K\n",
    "import tensorflow_datasets as tfds\n",
    "import tensorflow_text as tf_text\n",
    "\n",
    "import sklearn as sk\n",
    "import os\n",
    "import nltk\n",
    "from nltk.data import find\n",
    "\n",
    "import matplotlib.pyplot as plt\n",
    "\n",
    "import re\n",
    "import pandas as pd\n",
    "\n",
    "import gensim\n",
    "from gensim.models import Word2Vec\n",
    "from gensim.models import KeyedVectors\n",
    "from gensim.test.utils import datapath"
   ]
  },
  {
   "cell_type": "code",
   "execution_count": 26,
   "id": "ab6fa8e3-7bf5-45c4-982f-2746f2425f64",
   "metadata": {},
   "outputs": [
    {
     "data": {
      "text/html": [
       "<div>\n",
       "<style scoped>\n",
       "    .dataframe tbody tr th:only-of-type {\n",
       "        vertical-align: middle;\n",
       "    }\n",
       "\n",
       "    .dataframe tbody tr th {\n",
       "        vertical-align: top;\n",
       "    }\n",
       "\n",
       "    .dataframe thead th {\n",
       "        text-align: right;\n",
       "    }\n",
       "</style>\n",
       "<table border=\"1\" class=\"dataframe\">\n",
       "  <thead>\n",
       "    <tr style=\"text-align: right;\">\n",
       "      <th></th>\n",
       "      <th>claim</th>\n",
       "      <th>id</th>\n",
       "      <th>rating</th>\n",
       "      <th>original_rating</th>\n",
       "    </tr>\n",
       "  </thead>\n",
       "  <tbody>\n",
       "    <tr>\n",
       "      <th>0</th>\n",
       "      <td>OpIndia claimed Greta Thunberg's real name is ...</td>\n",
       "      <td>1</td>\n",
       "      <td>0</td>\n",
       "      <td>false</td>\n",
       "    </tr>\n",
       "    <tr>\n",
       "      <th>1</th>\n",
       "      <td>“38,000 prisoners were released from federal p...</td>\n",
       "      <td>2</td>\n",
       "      <td>1</td>\n",
       "      <td>misleading</td>\n",
       "    </tr>\n",
       "    <tr>\n",
       "      <th>2</th>\n",
       "      <td>Says Wisconsin ‘could compel’ Foxconn to insta...</td>\n",
       "      <td>3</td>\n",
       "      <td>1</td>\n",
       "      <td>barely-true</td>\n",
       "    </tr>\n",
       "    <tr>\n",
       "      <th>3</th>\n",
       "      <td>A 4-year-old boy was accused of hacking the FB...</td>\n",
       "      <td>4</td>\n",
       "      <td>0</td>\n",
       "      <td>false</td>\n",
       "    </tr>\n",
       "    <tr>\n",
       "      <th>4</th>\n",
       "      <td>Whistleblower accusing Philippine VP of fraud ...</td>\n",
       "      <td>5</td>\n",
       "      <td>1</td>\n",
       "      <td>misleading</td>\n",
       "    </tr>\n",
       "  </tbody>\n",
       "</table>\n",
       "</div>"
      ],
      "text/plain": [
       "                                               claim  id  rating  \\\n",
       "0  OpIndia claimed Greta Thunberg's real name is ...   1       0   \n",
       "1  “38,000 prisoners were released from federal p...   2       1   \n",
       "2  Says Wisconsin ‘could compel’ Foxconn to insta...   3       1   \n",
       "3  A 4-year-old boy was accused of hacking the FB...   4       0   \n",
       "4  Whistleblower accusing Philippine VP of fraud ...   5       1   \n",
       "\n",
       "  original_rating  \n",
       "0           false  \n",
       "1      misleading  \n",
       "2     barely-true  \n",
       "3           false  \n",
       "4      misleading  "
      ]
     },
     "execution_count": 26,
     "metadata": {},
     "output_type": "execute_result"
    }
   ],
   "source": [
    "train_df.head()"
   ]
  },
  {
   "cell_type": "code",
   "execution_count": 29,
   "id": "2aa71e48-c139-44e3-978b-36c7ef059da0",
   "metadata": {},
   "outputs": [
    {
     "data": {
      "text/plain": [
       "array([0, 1, 2])"
      ]
     },
     "execution_count": 29,
     "metadata": {},
     "output_type": "execute_result"
    }
   ],
   "source": [
    "train_df['rating'].unique()"
   ]
  },
  {
   "cell_type": "code",
   "execution_count": 34,
   "id": "a256820b-1ebf-4fe5-8596-ef730c3357e3",
   "metadata": {},
   "outputs": [
    {
     "data": {
      "text/html": [
       "<div>\n",
       "<style scoped>\n",
       "    .dataframe tbody tr th:only-of-type {\n",
       "        vertical-align: middle;\n",
       "    }\n",
       "\n",
       "    .dataframe tbody tr th {\n",
       "        vertical-align: top;\n",
       "    }\n",
       "\n",
       "    .dataframe thead th {\n",
       "        text-align: right;\n",
       "    }\n",
       "</style>\n",
       "<table border=\"1\" class=\"dataframe\">\n",
       "  <thead>\n",
       "    <tr style=\"text-align: right;\">\n",
       "      <th></th>\n",
       "      <th>claim</th>\n",
       "      <th>id</th>\n",
       "      <th>rating</th>\n",
       "      <th>original_rating</th>\n",
       "    </tr>\n",
       "  </thead>\n",
       "  <tbody>\n",
       "    <tr>\n",
       "      <th>0</th>\n",
       "      <td>OpIndia claimed Greta Thunberg's real name is ...</td>\n",
       "      <td>1</td>\n",
       "      <td>0</td>\n",
       "      <td>false</td>\n",
       "    </tr>\n",
       "    <tr>\n",
       "      <th>3</th>\n",
       "      <td>A 4-year-old boy was accused of hacking the FB...</td>\n",
       "      <td>4</td>\n",
       "      <td>0</td>\n",
       "      <td>false</td>\n",
       "    </tr>\n",
       "    <tr>\n",
       "      <th>5</th>\n",
       "      <td>A video shows Muslims \"marching for Sharia law...</td>\n",
       "      <td>6</td>\n",
       "      <td>0</td>\n",
       "      <td>false</td>\n",
       "    </tr>\n",
       "    <tr>\n",
       "      <th>10</th>\n",
       "      <td>New York State Gov. Andrew Cuomo issued a mult...</td>\n",
       "      <td>11</td>\n",
       "      <td>0</td>\n",
       "      <td>false</td>\n",
       "    </tr>\n",
       "    <tr>\n",
       "      <th>11</th>\n",
       "      <td>Vanilla ice cream was originally a deep, dark ...</td>\n",
       "      <td>12</td>\n",
       "      <td>0</td>\n",
       "      <td>false</td>\n",
       "    </tr>\n",
       "  </tbody>\n",
       "</table>\n",
       "</div>"
      ],
      "text/plain": [
       "                                                claim  id  rating  \\\n",
       "0   OpIndia claimed Greta Thunberg's real name is ...   1       0   \n",
       "3   A 4-year-old boy was accused of hacking the FB...   4       0   \n",
       "5   A video shows Muslims \"marching for Sharia law...   6       0   \n",
       "10  New York State Gov. Andrew Cuomo issued a mult...  11       0   \n",
       "11  Vanilla ice cream was originally a deep, dark ...  12       0   \n",
       "\n",
       "   original_rating  \n",
       "0            false  \n",
       "3            false  \n",
       "5            false  \n",
       "10           false  \n",
       "11           false  "
      ]
     },
     "execution_count": 34,
     "metadata": {},
     "output_type": "execute_result"
    }
   ],
   "source": [
    "train_df[train_df['rating'] == 0][:5]"
   ]
  },
  {
   "cell_type": "code",
   "execution_count": 35,
   "id": "d5d88015-1b04-4a92-b6eb-e415df7bfd43",
   "metadata": {},
   "outputs": [
    {
     "data": {
      "text/html": [
       "<div>\n",
       "<style scoped>\n",
       "    .dataframe tbody tr th:only-of-type {\n",
       "        vertical-align: middle;\n",
       "    }\n",
       "\n",
       "    .dataframe tbody tr th {\n",
       "        vertical-align: top;\n",
       "    }\n",
       "\n",
       "    .dataframe thead th {\n",
       "        text-align: right;\n",
       "    }\n",
       "</style>\n",
       "<table border=\"1\" class=\"dataframe\">\n",
       "  <thead>\n",
       "    <tr style=\"text-align: right;\">\n",
       "      <th></th>\n",
       "      <th>claim</th>\n",
       "      <th>id</th>\n",
       "      <th>rating</th>\n",
       "      <th>original_rating</th>\n",
       "    </tr>\n",
       "  </thead>\n",
       "  <tbody>\n",
       "    <tr>\n",
       "      <th>1</th>\n",
       "      <td>“38,000 prisoners were released from federal p...</td>\n",
       "      <td>2</td>\n",
       "      <td>1</td>\n",
       "      <td>misleading</td>\n",
       "    </tr>\n",
       "    <tr>\n",
       "      <th>2</th>\n",
       "      <td>Says Wisconsin ‘could compel’ Foxconn to insta...</td>\n",
       "      <td>3</td>\n",
       "      <td>1</td>\n",
       "      <td>barely-true</td>\n",
       "    </tr>\n",
       "    <tr>\n",
       "      <th>4</th>\n",
       "      <td>Whistleblower accusing Philippine VP of fraud ...</td>\n",
       "      <td>5</td>\n",
       "      <td>1</td>\n",
       "      <td>misleading</td>\n",
       "    </tr>\n",
       "    <tr>\n",
       "      <th>6</th>\n",
       "      <td>These photos show a victim and his assailants ...</td>\n",
       "      <td>7</td>\n",
       "      <td>1</td>\n",
       "      <td>misleading</td>\n",
       "    </tr>\n",
       "    <tr>\n",
       "      <th>7</th>\n",
       "      <td>Says Scott Walker \"said he wouldn't touch\" the...</td>\n",
       "      <td>8</td>\n",
       "      <td>1</td>\n",
       "      <td>barely-true</td>\n",
       "    </tr>\n",
       "  </tbody>\n",
       "</table>\n",
       "</div>"
      ],
      "text/plain": [
       "                                               claim  id  rating  \\\n",
       "1  “38,000 prisoners were released from federal p...   2       1   \n",
       "2  Says Wisconsin ‘could compel’ Foxconn to insta...   3       1   \n",
       "4  Whistleblower accusing Philippine VP of fraud ...   5       1   \n",
       "6  These photos show a victim and his assailants ...   7       1   \n",
       "7  Says Scott Walker \"said he wouldn't touch\" the...   8       1   \n",
       "\n",
       "  original_rating  \n",
       "1      misleading  \n",
       "2     barely-true  \n",
       "4      misleading  \n",
       "6      misleading  \n",
       "7     barely-true  "
      ]
     },
     "execution_count": 35,
     "metadata": {},
     "output_type": "execute_result"
    }
   ],
   "source": [
    "train_df[train_df['rating'] == 1][:5]"
   ]
  },
  {
   "cell_type": "code",
   "execution_count": 31,
   "id": "acb954e9-8902-46de-8dde-6f3da6b5787e",
   "metadata": {},
   "outputs": [
    {
     "data": {
      "text/html": [
       "<div>\n",
       "<style scoped>\n",
       "    .dataframe tbody tr th:only-of-type {\n",
       "        vertical-align: middle;\n",
       "    }\n",
       "\n",
       "    .dataframe tbody tr th {\n",
       "        vertical-align: top;\n",
       "    }\n",
       "\n",
       "    .dataframe thead th {\n",
       "        text-align: right;\n",
       "    }\n",
       "</style>\n",
       "<table border=\"1\" class=\"dataframe\">\n",
       "  <thead>\n",
       "    <tr style=\"text-align: right;\">\n",
       "      <th></th>\n",
       "      <th>claim</th>\n",
       "      <th>id</th>\n",
       "      <th>rating</th>\n",
       "      <th>original_rating</th>\n",
       "    </tr>\n",
       "  </thead>\n",
       "  <tbody>\n",
       "    <tr>\n",
       "      <th>13</th>\n",
       "      <td>Says that U.S. Rep. Allen West is \"a constitue...</td>\n",
       "      <td>14</td>\n",
       "      <td>2</td>\n",
       "      <td>true</td>\n",
       "    </tr>\n",
       "    <tr>\n",
       "      <th>14</th>\n",
       "      <td>\"The average margin of victory in the House of...</td>\n",
       "      <td>15</td>\n",
       "      <td>2</td>\n",
       "      <td>true</td>\n",
       "    </tr>\n",
       "    <tr>\n",
       "      <th>25</th>\n",
       "      <td>\"Not a single Democrat opposed Neil Gorsuch's ...</td>\n",
       "      <td>26</td>\n",
       "      <td>2</td>\n",
       "      <td>true</td>\n",
       "    </tr>\n",
       "    <tr>\n",
       "      <th>28</th>\n",
       "      <td>Ted Livingston, the CEO of Kik Interactive, an...</td>\n",
       "      <td>29</td>\n",
       "      <td>2</td>\n",
       "      <td>true</td>\n",
       "    </tr>\n",
       "    <tr>\n",
       "      <th>31</th>\n",
       "      <td>There are cities and counties in Georgia that ...</td>\n",
       "      <td>32</td>\n",
       "      <td>2</td>\n",
       "      <td>true</td>\n",
       "    </tr>\n",
       "  </tbody>\n",
       "</table>\n",
       "</div>"
      ],
      "text/plain": [
       "                                                claim  id  rating  \\\n",
       "13  Says that U.S. Rep. Allen West is \"a constitue...  14       2   \n",
       "14  \"The average margin of victory in the House of...  15       2   \n",
       "25  \"Not a single Democrat opposed Neil Gorsuch's ...  26       2   \n",
       "28  Ted Livingston, the CEO of Kik Interactive, an...  29       2   \n",
       "31  There are cities and counties in Georgia that ...  32       2   \n",
       "\n",
       "   original_rating  \n",
       "13            true  \n",
       "14            true  \n",
       "25            true  \n",
       "28            true  \n",
       "31            true  "
      ]
     },
     "execution_count": 31,
     "metadata": {},
     "output_type": "execute_result"
    }
   ],
   "source": [
    "train_df[train_df['rating'] == 2][:5]"
   ]
  },
  {
   "cell_type": "code",
   "execution_count": 49,
   "id": "d9dbe064-9308-4db1-9951-656bfb4111f8",
   "metadata": {},
   "outputs": [],
   "source": [
    "train_df['new_rating'] = np.where(train_df['rating'] == 0,'false',np.where(train_df['rating'] == 1,'misleading',np.where(train_df['rating'] == 2,'true','')))\n",
    "train_df['new_rating'].unique()\n",
    "\n",
    "test_df['new_rating'] = np.where(test_df['rating'] == 0,'false',np.where(test_df['rating'] == 1,'misleading',np.where(test_df['rating'] == 2,'true','')))\n",
    "valid_df['new_rating'] = np.where(valid_df['rating'] == 0,'false',np.where(valid_df['rating'] == 1,'misleading',np.where(valid_df['rating'] == 2,'true','')))\n",
    "\n"
   ]
  },
  {
   "cell_type": "code",
   "execution_count": 50,
   "id": "fec15046-6781-454b-a4e8-84882152f192",
   "metadata": {},
   "outputs": [],
   "source": [
    "\n",
    "dummy_train_y = np.array(pd.get_dummies(train_df['new_rating']))\n",
    "dummy_test_y = np.array(pd.get_dummies(test_df['new_rating']))\n",
    "dummy_valid_y = np.array(pd.get_dummies(valid_df['new_rating']))\n"
   ]
  },
  {
   "cell_type": "code",
   "execution_count": 2,
   "id": "aa766c84-80bf-4413-8a22-fab750501d12",
   "metadata": {},
   "outputs": [
    {
     "name": "stderr",
     "output_type": "stream",
     "text": [
      "[nltk_data] Downloading package word2vec_sample to\n",
      "[nltk_data]     /Users/peeti_mac/nltk_data...\n",
      "[nltk_data]   Package word2vec_sample is already up-to-date!\n"
     ]
    }
   ],
   "source": [
    "nltk.download('word2vec_sample')\n",
    "word2vec_sample = str(find('models/word2vec_sample/pruned.word2vec.txt'))\n",
    "model = KeyedVectors.load_word2vec_format(datapath(word2vec_sample), binary=False)\n",
    "\n",
    "EMBEDDING_DIM = len(model['university'])      \n",
    "\n",
    "# initialize embedding matrix and word-to-id map:  \n",
    "embedding_matrix = np.zeros((len(model) + 1, EMBEDDING_DIM))  \n",
    "vocab_dict = {}\n",
    "\n",
    "# build the embedding matrix and the word-to-id map:\n",
    "for i, word in enumerate(model.index_to_key):\n",
    "    embedding_vector = model[word]\n",
    "\n",
    "    if embedding_vector is not None:\n",
    "        # words not found in embedding index will be all-zeros.\n",
    "        embedding_matrix[i] = embedding_vector\n",
    "        vocab_dict[word] = i\n",
    "\n",
    "# we can use the last index at the end of the vocab for unknown tokens\n",
    "vocab_dict['[UNK]'] = len(vocab_dict)"
   ]
  },
  {
   "cell_type": "code",
   "execution_count": 4,
   "id": "e10b05d8-69a9-407e-9b90-2d13d9d65618",
   "metadata": {},
   "outputs": [
    {
     "data": {
      "text/plain": [
       "[\"OpIndia claimed Greta Thunberg's real name is Ghazala bhat\",\n",
       " '“38,000 prisoners were released from federal prison” during the Obama administration.',\n",
       " 'Says\\xa0Wisconsin ‘could compel’ Foxconn to install solar panels that would power 33,000 homes.',\n",
       " \"A 4-year-old boy was accused of hacking the FBI's databases.\"]"
      ]
     },
     "execution_count": 4,
     "metadata": {},
     "output_type": "execute_result"
    }
   ],
   "source": [
    "train_df['claim'].values.tolist()[:4]"
   ]
  },
  {
   "cell_type": "code",
   "execution_count": 7,
   "id": "a3b62710-8ab2-4438-8ff8-3bb504c18d35",
   "metadata": {},
   "outputs": [
    {
     "data": {
      "text/plain": [
       "array([0, 1, 1, 0])"
      ]
     },
     "execution_count": 7,
     "metadata": {},
     "output_type": "execute_result"
    }
   ],
   "source": [
    "np.array(train_df['rating'].values.tolist())[:4]"
   ]
  },
  {
   "cell_type": "code",
   "execution_count": 9,
   "id": "1dd5d1e5-24f0-43b8-bcfd-56406f6c92d3",
   "metadata": {},
   "outputs": [],
   "source": [
    "train_examples = train_df['claim'].values.tolist()\n",
    "train_examples = tf.convert_to_tensor(train_examples)\n",
    "train_labels = np.array(train_df['rating'].values.tolist())\n",
    "test_examples = test_df['claim'].values.tolist()\n",
    "test_examples = tf.convert_to_tensor(test_examples)\n",
    "test_labels = np.array(test_df['rating'].values.tolist())\n",
    "val_examples = valid_df['claim'].values.tolist()\n",
    "val_examples = tf.convert_to_tensor(val_examples)\n",
    "val_labels = np.array(valid_df['rating'].values.tolist())\n",
    "\n",
    "# print('Train data contains {} with labels of {}'.format(train_examples.shape[0],train_labels['rating'].unique()))"
   ]
  },
  {
   "cell_type": "code",
   "execution_count": 10,
   "id": "697531d6-4873-4956-b4dd-bf45e473d7f1",
   "metadata": {},
   "outputs": [
    {
     "data": {
      "text/plain": [
       "<tf.Tensor: shape=(4,), dtype=string, numpy=\n",
       "array([b\"OpIndia claimed Greta Thunberg's real name is Ghazala bhat\",\n",
       "       b'\\xe2\\x80\\x9c38,000 prisoners were released from federal prison\\xe2\\x80\\x9d during the Obama administration.',\n",
       "       b'Says\\xc2\\xa0Wisconsin \\xe2\\x80\\x98could compel\\xe2\\x80\\x99 Foxconn to install solar panels that would power 33,000 homes.',\n",
       "       b\"A 4-year-old boy was accused of hacking the FBI's databases.\"],\n",
       "      dtype=object)>"
      ]
     },
     "execution_count": 10,
     "metadata": {},
     "output_type": "execute_result"
    }
   ],
   "source": [
    "train_examples[:4]"
   ]
  },
  {
   "cell_type": "code",
   "execution_count": 11,
   "id": "3a1e161e-b040-4df0-916f-d02317eb0ca7",
   "metadata": {},
   "outputs": [
    {
     "data": {
      "text/plain": [
       "array([0, 1, 1, 0])"
      ]
     },
     "execution_count": 11,
     "metadata": {},
     "output_type": "execute_result"
    }
   ],
   "source": [
    "train_labels[:4]"
   ]
  },
  {
   "cell_type": "code",
   "execution_count": 25,
   "id": "613ebd34-a28d-4d56-a28d-1dc54395c5f6",
   "metadata": {},
   "outputs": [
    {
     "data": {
      "text/plain": [
       "(26976,)"
      ]
     },
     "execution_count": 25,
     "metadata": {},
     "output_type": "execute_result"
    }
   ],
   "source": [
    "train_labels.shape"
   ]
  },
  {
   "cell_type": "code",
   "execution_count": 47,
   "id": "aa0da942-b42e-4eeb-8b45-edba6a11bb78",
   "metadata": {},
   "outputs": [],
   "source": [
    "# tf.convert_to_tensor(train_examples)"
   ]
  },
  {
   "cell_type": "code",
   "execution_count": 12,
   "id": "999aea3d-0083-448a-8636-b9adb4933d03",
   "metadata": {},
   "outputs": [],
   "source": [
    "tokenizer = tf_text.WhitespaceTokenizer()\n",
    "train_tokens = tokenizer.tokenize(train_examples)\n",
    "test_tokens = tokenizer.tokenize(test_examples)"
   ]
  },
  {
   "cell_type": "code",
   "execution_count": 13,
   "id": "5326cf02-0d0c-4c04-9e57-c5092a8d0f35",
   "metadata": {},
   "outputs": [
    {
     "data": {
      "text/plain": [
       "<tf.Tensor: shape=(9,), dtype=string, numpy=\n",
       "array([b'OpIndia', b'claimed', b'Greta', b\"Thunberg's\", b'real', b'name',\n",
       "       b'is', b'Ghazala', b'bhat'], dtype=object)>"
      ]
     },
     "execution_count": 13,
     "metadata": {},
     "output_type": "execute_result"
    }
   ],
   "source": [
    "train_tokens[0]"
   ]
  },
  {
   "cell_type": "code",
   "execution_count": 14,
   "id": "bc8bb52a-baa4-405b-b782-224bc32e6fa3",
   "metadata": {},
   "outputs": [],
   "source": [
    "MAX_SEQUENCE_LENGTH = 128\n",
    "\n",
    "def docs_to_vocab_ids(tokenized_texts_list):\n",
    "    \"\"\"\n",
    "    converting a list of strings to a list of lists of word ids\n",
    "    \"\"\"\n",
    "    texts_vocab_ids = []\n",
    "    for i, token_list in enumerate(tokenized_texts_list):\n",
    "\n",
    "        # Get the vocab id for each token in this doc ([UNK] if not in vocab)\n",
    "        vocab_ids = []\n",
    "        for token in list(token_list.numpy()):\n",
    "            decoded = token.decode('utf-8', errors='ignore')\n",
    "            if decoded in vocab_dict:\n",
    "                vocab_ids.append(vocab_dict[decoded])\n",
    "            else:\n",
    "                vocab_ids.append(vocab_dict['[UNK]'])\n",
    "            \n",
    "        # Truncate text to max length, add padding up to max length\n",
    "        vocab_ids = vocab_ids[:MAX_SEQUENCE_LENGTH]\n",
    "        n_padding = (MAX_SEQUENCE_LENGTH - len(vocab_ids))\n",
    "        # For simplicity in this model, we'll just pad with uknown tokens\n",
    "        vocab_ids += [vocab_dict['[UNK]']] * n_padding\n",
    "\n",
    "        # Add this example to the list of converted docs\n",
    "        texts_vocab_ids.append(vocab_ids)\n",
    "            \n",
    "        if i % 5000 == 0:\n",
    "            print('Examples processed: ', i)\n",
    "        \n",
    "    print('Total examples: ', i)\n",
    "\n",
    "    return np.array(texts_vocab_ids)"
   ]
  },
  {
   "cell_type": "code",
   "execution_count": 15,
   "id": "374bd4ef-f566-4f1b-9e8c-8776dc8cf1f5",
   "metadata": {},
   "outputs": [
    {
     "name": "stdout",
     "output_type": "stream",
     "text": [
      "Examples processed:  0\n",
      "Examples processed:  5000\n",
      "Examples processed:  10000\n",
      "Examples processed:  15000\n",
      "Examples processed:  20000\n",
      "Examples processed:  25000\n",
      "Total examples:  26975\n",
      "Examples processed:  0\n",
      "Total examples:  3372\n"
     ]
    }
   ],
   "source": [
    "train_input = docs_to_vocab_ids(train_tokens)\n",
    "test_input = docs_to_vocab_ids(test_tokens)\n",
    "\n",
    "train_labels = np.array(train_labels)\n",
    "test_labels = np.array(test_labels)"
   ]
  },
  {
   "cell_type": "code",
   "execution_count": 17,
   "id": "fa5098d5-7ec8-41e7-bf8b-dcc1c34a03ed",
   "metadata": {},
   "outputs": [
    {
     "data": {
      "text/plain": [
       "array([[43981, 37588, 43981, 43981, 14926, 10804, 16908, 43981, 43981,\n",
       "        43981, 43981, 43981, 43981, 43981, 43981, 43981, 43981, 43981,\n",
       "        43981, 43981, 43981, 43981, 43981, 43981, 43981, 43981, 43981,\n",
       "        43981, 43981, 43981, 43981, 43981, 43981, 43981, 43981, 43981,\n",
       "        43981, 43981, 43981, 43981, 43981, 43981, 43981, 43981, 43981,\n",
       "        43981, 43981, 43981, 43981, 43981, 43981, 43981, 43981, 43981,\n",
       "        43981, 43981, 43981, 43981, 43981, 43981, 43981, 43981, 43981,\n",
       "        43981, 43981, 43981, 43981, 43981, 43981, 43981, 43981, 43981,\n",
       "        43981, 43981, 43981, 43981, 43981, 43981, 43981, 43981, 43981,\n",
       "        43981, 43981, 43981, 43981, 43981, 43981, 43981, 43981, 43981,\n",
       "        43981, 43981, 43981, 43981, 43981, 43981, 43981, 43981, 43981,\n",
       "        43981, 43981, 43981, 43981, 43981, 43981, 43981, 43981, 43981,\n",
       "        43981, 43981, 43981, 43981, 43981, 43981, 43981, 43981, 43981,\n",
       "        43981, 43981, 43981, 43981, 43981, 43981, 43981, 43981, 43981,\n",
       "        43981, 43981],\n",
       "       [43981, 36281, 17433,  6767, 10352, 31337, 43981, 15445, 14193,\n",
       "        43981, 43981, 43981, 43981, 43981, 43981, 43981, 43981, 43981,\n",
       "        43981, 43981, 43981, 43981, 43981, 43981, 43981, 43981, 43981,\n",
       "        43981, 43981, 43981, 43981, 43981, 43981, 43981, 43981, 43981,\n",
       "        43981, 43981, 43981, 43981, 43981, 43981, 43981, 43981, 43981,\n",
       "        43981, 43981, 43981, 43981, 43981, 43981, 43981, 43981, 43981,\n",
       "        43981, 43981, 43981, 43981, 43981, 43981, 43981, 43981, 43981,\n",
       "        43981, 43981, 43981, 43981, 43981, 43981, 43981, 43981, 43981,\n",
       "        43981, 43981, 43981, 43981, 43981, 43981, 43981, 43981, 43981,\n",
       "        43981, 43981, 43981, 43981, 43981, 43981, 43981, 43981, 43981,\n",
       "        43981, 43981, 43981, 43981, 43981, 43981, 43981, 43981, 43981,\n",
       "        43981, 43981, 43981, 43981, 43981, 43981, 43981, 43981, 43981,\n",
       "        43981, 43981, 43981, 43981, 43981, 43981, 43981, 43981, 43981,\n",
       "        43981, 43981, 43981, 43981, 43981, 43981, 43981, 43981, 43981,\n",
       "        43981, 43981],\n",
       "       [34147,  5161, 43981, 43981, 43981, 43981, 30340, 41783, 11597,\n",
       "        36633,  8310, 34227, 43981, 43981, 43981, 43981, 43981, 43981,\n",
       "        43981, 43981, 43981, 43981, 43981, 43981, 43981, 43981, 43981,\n",
       "        43981, 43981, 43981, 43981, 43981, 43981, 43981, 43981, 43981,\n",
       "        43981, 43981, 43981, 43981, 43981, 43981, 43981, 43981, 43981,\n",
       "        43981, 43981, 43981, 43981, 43981, 43981, 43981, 43981, 43981,\n",
       "        43981, 43981, 43981, 43981, 43981, 43981, 43981, 43981, 43981,\n",
       "        43981, 43981, 43981, 43981, 43981, 43981, 43981, 43981, 43981,\n",
       "        43981, 43981, 43981, 43981, 43981, 43981, 43981, 43981, 43981,\n",
       "        43981, 43981, 43981, 43981, 43981, 43981, 43981, 43981, 43981,\n",
       "        43981, 43981, 43981, 43981, 43981, 43981, 43981, 43981, 43981,\n",
       "        43981, 43981, 43981, 43981, 43981, 43981, 43981, 43981, 43981,\n",
       "        43981, 43981, 43981, 43981, 43981, 43981, 43981, 43981, 43981,\n",
       "        43981, 43981, 43981, 43981, 43981, 43981, 43981, 43981, 43981,\n",
       "        43981, 43981],\n",
       "       [33139, 43981,  6234, 25272,  9165, 43981, 35958, 14193, 43981,\n",
       "        43981, 43981, 43981, 43981, 43981, 43981, 43981, 43981, 43981,\n",
       "        43981, 43981, 43981, 43981, 43981, 43981, 43981, 43981, 43981,\n",
       "        43981, 43981, 43981, 43981, 43981, 43981, 43981, 43981, 43981,\n",
       "        43981, 43981, 43981, 43981, 43981, 43981, 43981, 43981, 43981,\n",
       "        43981, 43981, 43981, 43981, 43981, 43981, 43981, 43981, 43981,\n",
       "        43981, 43981, 43981, 43981, 43981, 43981, 43981, 43981, 43981,\n",
       "        43981, 43981, 43981, 43981, 43981, 43981, 43981, 43981, 43981,\n",
       "        43981, 43981, 43981, 43981, 43981, 43981, 43981, 43981, 43981,\n",
       "        43981, 43981, 43981, 43981, 43981, 43981, 43981, 43981, 43981,\n",
       "        43981, 43981, 43981, 43981, 43981, 43981, 43981, 43981, 43981,\n",
       "        43981, 43981, 43981, 43981, 43981, 43981, 43981, 43981, 43981,\n",
       "        43981, 43981, 43981, 43981, 43981, 43981, 43981, 43981, 43981,\n",
       "        43981, 43981, 43981, 43981, 43981, 43981, 43981, 43981, 43981,\n",
       "        43981, 43981]])"
      ]
     },
     "execution_count": 17,
     "metadata": {},
     "output_type": "execute_result"
    }
   ],
   "source": [
    "train_input[:4]"
   ]
  },
  {
   "cell_type": "code",
   "execution_count": 18,
   "id": "41cf39dd-3ed6-4f37-ade3-6dfe83757b74",
   "metadata": {},
   "outputs": [
    {
     "data": {
      "text/plain": [
       "array([0, 1, 1, 0])"
      ]
     },
     "execution_count": 18,
     "metadata": {},
     "output_type": "execute_result"
    }
   ],
   "source": [
    "train_labels[:4]"
   ]
  },
  {
   "cell_type": "code",
   "execution_count": 62,
   "id": "bfc6c5b8-2231-4046-8536-82321c9f698c",
   "metadata": {},
   "outputs": [],
   "source": [
    "def build_ann_model(num_classes, embeddings_trainable=False):\n",
    "    an_input_layer = tf.keras.layers.Input(shape=(MAX_SEQUENCE_LENGTH,), dtype='int64')\n",
    "    \n",
    "    an_embedding_layer = Embedding(embedding_matrix.shape[0],\n",
    "                                   embedding_matrix.shape[1],\n",
    "                                   embeddings_initializer=tf.keras.initializers.Constant(embedding_matrix),\n",
    "                                   input_length=MAX_SEQUENCE_LENGTH,\n",
    "                                   trainable=embeddings_trainable)\n",
    "    \n",
    "    an_embeddings = an_embedding_layer(an_input_layer)\n",
    "    \n",
    "    an_avg_embeddings = tf.keras.layers.Lambda(lambda x: K.mean(x, axis=1), name='averaging')(an_embeddings)\n",
    "    \n",
    "    an_classification = tf.keras.layers.Dense(num_classes, \n",
    "                                              activation='softmax', \n",
    "                                              name='an_classification')(an_avg_embeddings)\n",
    "    \n",
    "    an_model = tf.keras.models.Model(inputs=an_input_layer, outputs=[an_classification])\n",
    "    \n",
    "    \n",
    "    an_model.compile(loss='categorical_crossentropy',\n",
    "                     optimizer=tf.keras.optimizers.Adam(learning_rate=0.001,\n",
    "                                                        beta_1=0.9,\n",
    "                                                        beta_2=0.999,\n",
    "                                                        epsilon=1e-07,\n",
    "                                                        amsgrad=False,\n",
    "                                                        name='Adam'),\n",
    "                     metrics='accuracy')\n",
    "    return an_model"
   ]
  },
  {
   "cell_type": "code",
   "execution_count": 64,
   "id": "2ea4f3a2-00f5-4c56-b032-f05c5f1b4fb7",
   "metadata": {},
   "outputs": [
    {
     "name": "stdout",
     "output_type": "stream",
     "text": [
      "Model: \"model_8\"\n",
      "_________________________________________________________________\n",
      " Layer (type)                Output Shape              Param #   \n",
      "=================================================================\n",
      " input_9 (InputLayer)        [(None, 128)]             0         \n",
      "                                                                 \n",
      " embedding_8 (Embedding)     (None, 128, 300)          13194600  \n",
      "                                                                 \n",
      " averaging (Lambda)          (None, 300)               0         \n",
      "                                                                 \n",
      " an_classification (Dense)   (None, 3)                 903       \n",
      "                                                                 \n",
      "=================================================================\n",
      "Total params: 13195503 (50.34 MB)\n",
      "Trainable params: 903 (3.53 KB)\n",
      "Non-trainable params: 13194600 (50.33 MB)\n",
      "_________________________________________________________________\n"
     ]
    }
   ],
   "source": [
    "ann_model = build_ann_model(3)\n",
    "ann_model.summary()"
   ]
  },
  {
   "cell_type": "code",
   "execution_count": null,
   "id": "a9e3d78b-0e70-437c-8d2d-738a6f90ab5f",
   "metadata": {},
   "outputs": [],
   "source": []
  },
  {
   "cell_type": "code",
   "execution_count": 65,
   "id": "77292fdc-8afb-4dc4-8756-f61e1e516679",
   "metadata": {},
   "outputs": [
    {
     "name": "stdout",
     "output_type": "stream",
     "text": [
      "Epoch 1/20\n",
      "843/843 [==============================] - 2s 2ms/step - loss: 0.9971 - accuracy: 0.5098 - val_loss: 0.9598 - val_accuracy: 0.5574\n",
      "Epoch 2/20\n",
      "843/843 [==============================] - 2s 2ms/step - loss: 0.9503 - accuracy: 0.5535 - val_loss: 0.9461 - val_accuracy: 0.5500\n",
      "Epoch 3/20\n",
      "843/843 [==============================] - 2s 2ms/step - loss: 0.9406 - accuracy: 0.5541 - val_loss: 0.9379 - val_accuracy: 0.5553\n",
      "Epoch 4/20\n",
      "843/843 [==============================] - 2s 2ms/step - loss: 0.9343 - accuracy: 0.5544 - val_loss: 0.9321 - val_accuracy: 0.5562\n",
      "Epoch 5/20\n",
      "843/843 [==============================] - 2s 2ms/step - loss: 0.9295 - accuracy: 0.5555 - val_loss: 0.9275 - val_accuracy: 0.5606\n",
      "Epoch 6/20\n",
      "843/843 [==============================] - 2s 2ms/step - loss: 0.9256 - accuracy: 0.5568 - val_loss: 0.9237 - val_accuracy: 0.5597\n",
      "Epoch 7/20\n",
      "843/843 [==============================] - 2s 2ms/step - loss: 0.9224 - accuracy: 0.5590 - val_loss: 0.9205 - val_accuracy: 0.5603\n",
      "Epoch 8/20\n",
      "843/843 [==============================] - 2s 2ms/step - loss: 0.9198 - accuracy: 0.5615 - val_loss: 0.9176 - val_accuracy: 0.5636\n",
      "Epoch 9/20\n",
      "843/843 [==============================] - 2s 2ms/step - loss: 0.9175 - accuracy: 0.5621 - val_loss: 0.9153 - val_accuracy: 0.5654\n",
      "Epoch 10/20\n",
      "843/843 [==============================] - 2s 2ms/step - loss: 0.9154 - accuracy: 0.5648 - val_loss: 0.9133 - val_accuracy: 0.5677\n",
      "Epoch 11/20\n",
      "843/843 [==============================] - 2s 2ms/step - loss: 0.9136 - accuracy: 0.5648 - val_loss: 0.9116 - val_accuracy: 0.5692\n",
      "Epoch 12/20\n",
      "843/843 [==============================] - 2s 3ms/step - loss: 0.9120 - accuracy: 0.5670 - val_loss: 0.9099 - val_accuracy: 0.5707\n",
      "Epoch 13/20\n",
      "843/843 [==============================] - 3s 4ms/step - loss: 0.9105 - accuracy: 0.5677 - val_loss: 0.9083 - val_accuracy: 0.5722\n",
      "Epoch 14/20\n",
      "843/843 [==============================] - 2s 3ms/step - loss: 0.9092 - accuracy: 0.5699 - val_loss: 0.9072 - val_accuracy: 0.5719\n",
      "Epoch 15/20\n",
      "843/843 [==============================] - 3s 3ms/step - loss: 0.9080 - accuracy: 0.5702 - val_loss: 0.9055 - val_accuracy: 0.5737\n",
      "Epoch 16/20\n",
      "843/843 [==============================] - 3s 3ms/step - loss: 0.9068 - accuracy: 0.5711 - val_loss: 0.9042 - val_accuracy: 0.5728\n",
      "Epoch 17/20\n",
      "843/843 [==============================] - 2s 2ms/step - loss: 0.9058 - accuracy: 0.5728 - val_loss: 0.9033 - val_accuracy: 0.5743\n",
      "Epoch 18/20\n",
      "843/843 [==============================] - 2s 2ms/step - loss: 0.9048 - accuracy: 0.5738 - val_loss: 0.9023 - val_accuracy: 0.5755\n",
      "Epoch 19/20\n",
      "843/843 [==============================] - 2s 2ms/step - loss: 0.9039 - accuracy: 0.5740 - val_loss: 0.9016 - val_accuracy: 0.5722\n",
      "Epoch 20/20\n",
      "843/843 [==============================] - 2s 2ms/step - loss: 0.9030 - accuracy: 0.5748 - val_loss: 0.9006 - val_accuracy: 0.5763\n"
     ]
    }
   ],
   "source": [
    "ann_history = ann_model.fit(train_input,\n",
    "                          dummy_train_y,\n",
    "                          validation_data=(test_input, dummy_test_y),\n",
    "                          batch_size=32,\n",
    "                          epochs=20\n",
    "                          )"
   ]
  },
  {
   "cell_type": "code",
   "execution_count": 66,
   "id": "db342d0a-dc41-494f-8b61-0f57bdf2bfc1",
   "metadata": {},
   "outputs": [],
   "source": [
    "def build_dan_model(num_classes, hidden_layer_dims, dropout_rate, embeddings_trainable=False):\n",
    "    dan_input_layer = tf.keras.layers.Input(shape=(MAX_SEQUENCE_LENGTH,), dtype='int64')\n",
    "    dan_embedding_layer = Embedding(embedding_matrix.shape[0],\n",
    "                                    embedding_matrix.shape[1],\n",
    "                                    embeddings_initializer=tf.keras.initializers.Constant(embedding_matrix),\n",
    "                                    input_length=MAX_SEQUENCE_LENGTH,\n",
    "                                    trainable=embeddings_trainable)\n",
    "    dan_embeddings = dan_embedding_layer(dan_input_layer)\n",
    "    dan_avg_embeddings = tf.keras.layers.Lambda(lambda x: K.mean(x, axis=1),\n",
    "                                                name='averaging')(dan_embeddings)\n",
    "    last_hidden_output = dan_avg_embeddings\n",
    "\n",
    "    for i, h_dim in enumerate(hidden_layer_dims):\n",
    "        last_hidden_output = tf.keras.layers.Dense(h_dim, activation='relu',\n",
    "                                                   name='dan_hidden_%d' % i)(last_hidden_output)\n",
    "        last_hidden_output = tf.keras.layers.Dropout(dropout_rate)(last_hidden_output)\n",
    "    \n",
    "    dan_classification = tf.keras.layers.Dense(3,\n",
    "                                               activation='softmax',\n",
    "                                               name='dan_classification')(last_hidden_output)\n",
    "    \n",
    "    dan_model = tf.keras.models.Model(inputs=dan_input_layer, outputs=[dan_classification])\n",
    "    dan_model.compile(loss='categorical_crossentropy',\n",
    "                      optimizer=tf.keras.optimizers.Adam(learning_rate=0.001,\n",
    "                                                         beta_1=0.9,\n",
    "                                                         beta_2=0.999,\n",
    "                                                         epsilon=1e-07,\n",
    "                                                         amsgrad=False,\n",
    "                                                         name='Adam'),\n",
    "                      metrics='accuracy')\n",
    "    return dan_model"
   ]
  },
  {
   "cell_type": "code",
   "execution_count": 67,
   "id": "88b1dbdc-7d68-4ddc-811b-df497228e3d3",
   "metadata": {},
   "outputs": [
    {
     "name": "stderr",
     "output_type": "stream",
     "text": [
      "python(69056) MallocStackLogging: can't turn off malloc stack logging because it was not enabled.\n",
      "python(69058) MallocStackLogging: can't turn off malloc stack logging because it was not enabled.\n"
     ]
    },
    {
     "data": {
      "image/png": "[encoded data removed]",
      "text/plain": [
       "<IPython.core.display.Image object>"
      ]
     },
     "execution_count": 67,
     "metadata": {},
     "output_type": "execute_result"
    }
   ],
   "source": [
    "# Now call our function to create a DAN model, and show the model diagram\n",
    "\n",
    "hidden_layer_sizes = [100, 50]\n",
    "dropout_rate = 0.5\n",
    "num_classes = 3\n",
    "\n",
    "dan_model = build_dan_model(num_classes, hidden_layer_sizes, dropout_rate)\n",
    "keras.utils.plot_model(dan_model, show_shapes=True, dpi=90)"
   ]
  },
  {
   "cell_type": "code",
   "execution_count": 68,
   "id": "a1ce137f-951d-44f5-b6cd-b725a28b3e3d",
   "metadata": {},
   "outputs": [
    {
     "name": "stdout",
     "output_type": "stream",
     "text": [
      "Epoch 1/20\n",
      "843/843 [==============================] - 3s 3ms/step - loss: 0.9457 - accuracy: 0.5194 - val_loss: 0.9049 - val_accuracy: 0.5680\n",
      "Epoch 2/20\n",
      "843/843 [==============================] - 2s 3ms/step - loss: 0.9065 - accuracy: 0.5664 - val_loss: 0.8857 - val_accuracy: 0.5835\n",
      "Epoch 3/20\n",
      "843/843 [==============================] - 3s 3ms/step - loss: 0.8938 - accuracy: 0.5813 - val_loss: 0.8818 - val_accuracy: 0.5838\n",
      "Epoch 4/20\n",
      "843/843 [==============================] - 3s 4ms/step - loss: 0.8856 - accuracy: 0.5844 - val_loss: 0.8756 - val_accuracy: 0.5888\n",
      "Epoch 5/20\n",
      "843/843 [==============================] - 3s 3ms/step - loss: 0.8803 - accuracy: 0.5894 - val_loss: 0.8717 - val_accuracy: 0.5909\n",
      "Epoch 6/20\n",
      "843/843 [==============================] - 3s 4ms/step - loss: 0.8789 - accuracy: 0.5882 - val_loss: 0.8694 - val_accuracy: 0.5888\n",
      "Epoch 7/20\n",
      "843/843 [==============================] - 2s 3ms/step - loss: 0.8773 - accuracy: 0.5901 - val_loss: 0.8694 - val_accuracy: 0.5909\n",
      "Epoch 8/20\n",
      "843/843 [==============================] - 2s 3ms/step - loss: 0.8721 - accuracy: 0.5945 - val_loss: 0.8679 - val_accuracy: 0.5858\n",
      "Epoch 9/20\n",
      "843/843 [==============================] - 2s 3ms/step - loss: 0.8711 - accuracy: 0.5970 - val_loss: 0.8695 - val_accuracy: 0.5864\n",
      "Epoch 10/20\n",
      "843/843 [==============================] - 2s 3ms/step - loss: 0.8688 - accuracy: 0.5947 - val_loss: 0.8665 - val_accuracy: 0.5891\n",
      "Epoch 11/20\n",
      "843/843 [==============================] - 2s 3ms/step - loss: 0.8674 - accuracy: 0.5986 - val_loss: 0.8670 - val_accuracy: 0.5891\n",
      "Epoch 12/20\n",
      "843/843 [==============================] - 2s 3ms/step - loss: 0.8673 - accuracy: 0.5970 - val_loss: 0.8656 - val_accuracy: 0.5879\n",
      "Epoch 13/20\n",
      "843/843 [==============================] - 2s 3ms/step - loss: 0.8653 - accuracy: 0.5996 - val_loss: 0.8645 - val_accuracy: 0.5903\n",
      "Epoch 14/20\n",
      "843/843 [==============================] - 2s 3ms/step - loss: 0.8640 - accuracy: 0.5987 - val_loss: 0.8653 - val_accuracy: 0.5879\n",
      "Epoch 15/20\n",
      "843/843 [==============================] - 2s 3ms/step - loss: 0.8649 - accuracy: 0.5969 - val_loss: 0.8654 - val_accuracy: 0.5938\n",
      "Epoch 16/20\n",
      "843/843 [==============================] - 3s 3ms/step - loss: 0.8615 - accuracy: 0.6013 - val_loss: 0.8656 - val_accuracy: 0.5873\n",
      "Epoch 17/20\n",
      "843/843 [==============================] - 2s 3ms/step - loss: 0.8638 - accuracy: 0.5973 - val_loss: 0.8634 - val_accuracy: 0.5941\n",
      "Epoch 18/20\n",
      "843/843 [==============================] - 2s 3ms/step - loss: 0.8609 - accuracy: 0.5976 - val_loss: 0.8653 - val_accuracy: 0.5864\n",
      "Epoch 19/20\n",
      "843/843 [==============================] - 2s 3ms/step - loss: 0.8618 - accuracy: 0.6012 - val_loss: 0.8652 - val_accuracy: 0.5921\n",
      "Epoch 20/20\n",
      "843/843 [==============================] - 2s 3ms/step - loss: 0.8594 - accuracy: 0.6046 - val_loss: 0.8639 - val_accuracy: 0.5894\n"
     ]
    }
   ],
   "source": [
    "dan_history = dan_model.fit(train_input,\n",
    "                          dummy_train_y,\n",
    "                          validation_data=(test_input, dummy_test_y),\n",
    "                          batch_size=32,\n",
    "                          epochs=20\n",
    "                            )"
   ]
  },
  {
   "cell_type": "code",
   "execution_count": 70,
   "id": "bb9500ff-85a5-4224-9c9d-9bdaf63d3619",
   "metadata": {},
   "outputs": [],
   "source": [
    "# 4-window plot of loss and accuracy for two models, for comparison\n",
    "\n",
    "def make_plot(axs,\n",
    "              model_history1, \n",
    "              model_history2, \n",
    "              model_1_name='model 1',\n",
    "              model_2_name='model 2',\n",
    "              ):\n",
    "    box = dict(facecolor='yellow', pad=5, alpha=0.2)\n",
    "\n",
    "    for i, metric in enumerate(['loss', 'accuracy']):\n",
    "        y_lim_lower1 = np.min(model_history1.history[metric])\n",
    "        y_lim_lower2 = np.min(model_history2.history[metric])\n",
    "        y_lim_lower = min(y_lim_lower1, y_lim_lower2) * 0.9\n",
    "\n",
    "        y_lim_upper1 = np.max(model_history1.history[metric])\n",
    "        y_lim_upper2 = np.max(model_history2.history[metric])\n",
    "        y_lim_upper = max(y_lim_upper1, y_lim_upper2) * 1.1\n",
    "\n",
    "        for j, model_history in enumerate([model_history1, model_history2]):\n",
    "            model_name = [model_1_name, model_2_name][j]\n",
    "            ax1 = axs[i, j]\n",
    "            ax1.plot(model_history.history[metric])\n",
    "            ax1.plot(model_history.history['val_%s' % metric])\n",
    "            ax1.set_title('%s - %s' % (metric, model_name))\n",
    "            ax1.set_ylabel(metric, bbox=box)\n",
    "            ax1.set_ylim(y_lim_lower, y_lim_upper)"
   ]
  },
  {
   "cell_type": "code",
   "execution_count": 71,
   "id": "96525781-d405-4e70-973a-82d279d8a699",
   "metadata": {},
   "outputs": [
    {
     "data": {
      "image/png": "[encoded data removed]",
      "text/plain": [
       "<Figure size 1332x756 with 4 Axes>"
      ]
     },
     "metadata": {
      "needs_background": "light"
     },
     "output_type": "display_data"
    }
   ],
   "source": [
    "fig, axs = plt.subplots(2, 2)\n",
    "fig.subplots_adjust(left=0.2, wspace=0.6)\n",
    "make_plot(axs,\n",
    "          ann_history,\n",
    "          dan_history,\n",
    "          model_1_name='ann',\n",
    "          model_2_name='dan')\n",
    "\n",
    "fig.align_ylabels(axs[:, 1])\n",
    "fig.set_size_inches(18.5, 10.5)\n",
    "plt.show()"
   ]
  },
  {
   "cell_type": "markdown",
   "id": "5977538a-c9e5-4bce-b2ef-29c2ae4f083d",
   "metadata": {},
   "source": [
    "# CNN"
   ]
  },
  {
   "cell_type": "code",
   "execution_count": 72,
   "id": "92ac0616-a198-4eb3-a7d4-13d85c688552",
   "metadata": {},
   "outputs": [],
   "source": [
    "def build_cnn_model(num_classes, num_filters, kernel_sizes, dense_layer_dims, dropout_rate, embeddings_trainable=False):\n",
    "    cnn_input_layer = tf.keras.layers.Input(shape=(MAX_SEQUENCE_LENGTH,), dtype='int64')\n",
    "    cnn_embedding_layer = Embedding(embedding_matrix.shape[0],\n",
    "                                    embedding_matrix.shape[1],\n",
    "                                    embeddings_initializer=tf.keras.initializers.Constant(embedding_matrix),\n",
    "                                    input_length=MAX_SEQUENCE_LENGTH,\n",
    "                                    trainable=embeddings_trainable)\n",
    "    cnn_embeddings = cnn_embedding_layer(cnn_input_layer)\n",
    "\n",
    "    conv_layers_for_all_kernel_sizes = []\n",
    "    for kernel_size, filters in zip(kernel_sizes, num_filters):\n",
    "        conv_layer = keras.layers.Conv1D(filters=filters, kernel_size=kernel_size, activation='relu')(cnn_embeddings)\n",
    "        conv_layer = keras.layers.GlobalMaxPooling1D()(conv_layer)\n",
    "        conv_layers_for_all_kernel_sizes.append(conv_layer)\n",
    "    \n",
    "    conv_output = keras.layers.concatenate(conv_layers_for_all_kernel_sizes, axis=1)\n",
    "    last_hidden_output = keras.layers.Dropout(rate=dropout_rate)(conv_output)\n",
    "\n",
    "    for dense_layer_dim in dense_layer_dims:\n",
    "        last_hidden_output = keras.layers.Dense(dense_layer_dim, activation='relu')(last_hidden_output)\n",
    "    \n",
    "    cnn_prediction = keras.layers.Dense(3, activation='softmax')(last_hidden_output)\n",
    "\n",
    "    cnn_model = keras.Model(inputs=cnn_input_layer, outputs=cnn_prediction)\n",
    "    cnn_model.compile(optimizer='adam',\n",
    "                      loss='categorical_crossentropy',  # From information theory notebooks.\n",
    "                      metrics=['accuracy'])\n",
    "    return cnn_model"
   ]
  },
  {
   "cell_type": "code",
   "execution_count": 73,
   "id": "d4347f8e-ee85-45cb-b80b-b86d86b11fc3",
   "metadata": {},
   "outputs": [],
   "source": [
    "# Now specify model hyperparameters and call the function to create a CNN model\n",
    "\n",
    "num_classes = 3\n",
    "num_filters = [100, 100, 50, 25]\n",
    "kernel_sizes = [3, 4, 5, 10]\n",
    "dense_layer_dims = [100, 50]\n",
    "dropout_rate = 0.5\n",
    "\n",
    "cnn_model = build_cnn_model(num_classes, num_filters, kernel_sizes, dense_layer_dims, dropout_rate)"
   ]
  },
  {
   "cell_type": "code",
   "execution_count": 74,
   "id": "bed01dff-3971-4067-97bc-e97088d8b210",
   "metadata": {},
   "outputs": [
    {
     "name": "stdout",
     "output_type": "stream",
     "text": [
      "Model: \"model_10\"\n",
      "__________________________________________________________________________________________________\n",
      " Layer (type)                Output Shape                 Param #   Connected to                  \n",
      "==================================================================================================\n",
      " input_11 (InputLayer)       [(None, 128)]                0         []                            \n",
      "                                                                                                  \n",
      " embedding_10 (Embedding)    (None, 128, 300)             1319460   ['input_11[0][0]']            \n",
      "                                                          0                                       \n",
      "                                                                                                  \n",
      " conv1d (Conv1D)             (None, 126, 100)             90100     ['embedding_10[0][0]']        \n",
      "                                                                                                  \n",
      " conv1d_1 (Conv1D)           (None, 125, 100)             120100    ['embedding_10[0][0]']        \n",
      "                                                                                                  \n",
      " conv1d_2 (Conv1D)           (None, 124, 50)              75050     ['embedding_10[0][0]']        \n",
      "                                                                                                  \n",
      " conv1d_3 (Conv1D)           (None, 119, 25)              75025     ['embedding_10[0][0]']        \n",
      "                                                                                                  \n",
      " global_max_pooling1d (Glob  (None, 100)                  0         ['conv1d[0][0]']              \n",
      " alMaxPooling1D)                                                                                  \n",
      "                                                                                                  \n",
      " global_max_pooling1d_1 (Gl  (None, 100)                  0         ['conv1d_1[0][0]']            \n",
      " obalMaxPooling1D)                                                                                \n",
      "                                                                                                  \n",
      " global_max_pooling1d_2 (Gl  (None, 50)                   0         ['conv1d_2[0][0]']            \n",
      " obalMaxPooling1D)                                                                                \n",
      "                                                                                                  \n",
      " global_max_pooling1d_3 (Gl  (None, 25)                   0         ['conv1d_3[0][0]']            \n",
      " obalMaxPooling1D)                                                                                \n",
      "                                                                                                  \n",
      " concatenate (Concatenate)   (None, 275)                  0         ['global_max_pooling1d[0][0]',\n",
      "                                                                     'global_max_pooling1d_1[0][0]\n",
      "                                                                    ',                            \n",
      "                                                                     'global_max_pooling1d_2[0][0]\n",
      "                                                                    ',                            \n",
      "                                                                     'global_max_pooling1d_3[0][0]\n",
      "                                                                    ']                            \n",
      "                                                                                                  \n",
      " dropout_2 (Dropout)         (None, 275)                  0         ['concatenate[0][0]']         \n",
      "                                                                                                  \n",
      " dense (Dense)               (None, 100)                  27600     ['dropout_2[0][0]']           \n",
      "                                                                                                  \n",
      " dense_1 (Dense)             (None, 50)                   5050      ['dense[0][0]']               \n",
      "                                                                                                  \n",
      " dense_2 (Dense)             (None, 3)                    153       ['dense_1[0][0]']             \n",
      "                                                                                                  \n",
      "==================================================================================================\n",
      "Total params: 13587678 (51.83 MB)\n",
      "Trainable params: 393078 (1.50 MB)\n",
      "Non-trainable params: 13194600 (50.33 MB)\n",
      "__________________________________________________________________________________________________\n"
     ]
    }
   ],
   "source": [
    "cnn_model.summary()"
   ]
  },
  {
   "cell_type": "code",
   "execution_count": null,
   "id": "bf07ab1d-4da5-43e8-844f-4a16da7ca074",
   "metadata": {},
   "outputs": [
    {
     "name": "stdout",
     "output_type": "stream",
     "text": [
      "Epoch 1/5\n",
      "843/843 [==============================] - 61s 71ms/step - loss: 0.8972 - accuracy: 0.5740 - val_loss: 0.8689 - val_accuracy: 0.5932\n",
      "Epoch 2/5\n",
      "843/843 [==============================] - 63s 74ms/step - loss: 0.8495 - accuracy: 0.6055 - val_loss: 0.8701 - val_accuracy: 0.5840\n",
      "Epoch 3/5\n",
      "843/843 [==============================] - 62s 74ms/step - loss: 0.8130 - accuracy: 0.6251 - val_loss: 0.8533 - val_accuracy: 0.6036\n",
      "Epoch 4/5\n",
      "843/843 [==============================] - 57s 68ms/step - loss: 0.7657 - accuracy: 0.6495 - val_loss: 0.8642 - val_accuracy: 0.5992\n",
      "Epoch 5/5\n",
      "573/843 [===================>..........] - ETA: 17s - loss: 0.7089 - accuracy: 0.6797"
     ]
    }
   ],
   "source": [
    "cnn_history = cnn_model.fit(train_input,\n",
    "                          dummy_train_y,\n",
    "                          validation_data=(test_input, dummy_test_y),\n",
    "                          batch_size=32,\n",
    "                          epochs=5\n",
    "                            )"
   ]
  },
  {
   "cell_type": "markdown",
   "id": "e37e11d3-444c-4186-a0da-9a965066ad4b",
   "metadata": {},
   "source": [
    "# RNN"
   ]
  }
 ],
 "metadata": {
  "kernelspec": {
   "display_name": "Python 3 (ipykernel)",
   "language": "python",
   "name": "python3"
  },
  "language_info": {
   "codemirror_mode": {
    "name": "ipython",
    "version": 3
   },
   "file_extension": ".py",
   "mimetype": "text/x-python",
   "name": "python",
   "nbconvert_exporter": "python",
   "pygments_lexer": "ipython3",
   "version": "3.9.7"
  }
 },
 "nbformat": 4,
 "nbformat_minor": 5
}
